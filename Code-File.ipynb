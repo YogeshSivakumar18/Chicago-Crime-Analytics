{
 "cells": [
  {
   "cell_type": "markdown",
   "metadata": {
    "application/vnd.databricks.v1+cell": {
     "cellMetadata": {
      "byteLimit": 2048000,
      "rowLimit": 10000
     },
     "inputWidgets": {},
     "nuid": "9b3ceeed-66d2-498c-a98a-6a36d2d7d828",
     "showTitle": false,
     "tableResultSettingsMap": {},
     "title": ""
    }
   },
   "source": [
    "## **Data Ingestion and Cleaning**\n"
   ]
  },
  {
   "cell_type": "code",
   "execution_count": 0,
   "metadata": {
    "application/vnd.databricks.v1+cell": {
     "cellMetadata": {
      "byteLimit": 2048000,
      "rowLimit": 10000
     },
     "inputWidgets": {},
     "nuid": "94c7cf93-2b9a-4ac2-81a4-85bf90b54254",
     "showTitle": false,
     "tableResultSettingsMap": {},
     "title": ""
    }
   },
   "outputs": [
    {
     "output_type": "display_data",
     "data": {
      "text/html": [
       "<style scoped>\n",
       "  .table-result-container {\n",
       "    max-height: 300px;\n",
       "    overflow: auto;\n",
       "  }\n",
       "  table, th, td {\n",
       "    border: 1px solid black;\n",
       "    border-collapse: collapse;\n",
       "  }\n",
       "  th, td {\n",
       "    padding: 5px;\n",
       "  }\n",
       "  th {\n",
       "    text-align: left;\n",
       "  }\n",
       "</style><div class='table-result-container'><table class='table-result'><thead style='background-color: white'><tr><th>path</th><th>name</th><th>size</th><th>modificationTime</th></tr></thead><tbody><tr><td>dbfs:/FileStore/tables/Chicago_Crime_Data.csv</td><td>Chicago_Crime_Data.csv</td><td>1958028100</td><td>1745596666000</td></tr></tbody></table></div>"
      ]
     },
     "metadata": {
      "application/vnd.databricks.v1+output": {
       "addedWidgets": {},
       "aggData": [],
       "aggError": "",
       "aggOverflow": false,
       "aggSchema": [],
       "aggSeriesLimitReached": false,
       "aggType": "",
       "arguments": {},
       "columnCustomDisplayInfos": {},
       "data": [
        [
         "dbfs:/FileStore/tables/Chicago_Crime_Data.csv",
         "Chicago_Crime_Data.csv",
         1958028100,
         1745596666000
        ]
       ],
       "datasetInfos": [],
       "dbfsResultPath": null,
       "isJsonSchema": true,
       "metadata": {},
       "overflow": false,
       "plotOptions": {
        "customPlotOptions": {},
        "displayType": "table",
        "pivotAggregation": null,
        "pivotColumns": null,
        "xColumns": null,
        "yColumns": null
       },
       "removedWidgets": [],
       "schema": [
        {
         "metadata": "{}",
         "name": "path",
         "type": "\"string\""
        },
        {
         "metadata": "{}",
         "name": "name",
         "type": "\"string\""
        },
        {
         "metadata": "{}",
         "name": "size",
         "type": "\"long\""
        },
        {
         "metadata": "{}",
         "name": "modificationTime",
         "type": "\"long\""
        }
       ],
       "type": "table"
      }
     },
     "output_type": "display_data"
    }
   ],
   "source": [
    "#Displaying the files and directories for checking whether the dataset is correctly uploaded\n",
    "display(dbutils.fs.ls(\"/FileStore/tables/\"))"
   ]
  },
  {
   "cell_type": "code",
   "execution_count": 0,
   "metadata": {
    "application/vnd.databricks.v1+cell": {
     "cellMetadata": {
      "byteLimit": 2048000,
      "rowLimit": 10000
     },
     "inputWidgets": {},
     "nuid": "c9b69f5c-34af-43f1-8dcd-48fa190f84e6",
     "showTitle": false,
     "tableResultSettingsMap": {},
     "title": ""
    }
   },
   "outputs": [],
   "source": [
    "#Loading the csv file\n",
    "df = spark.read.csv(\"/FileStore/tables/Chicago_Crime_Data.csv\", header = True, inferSchema = True)"
   ]
  },
  {
   "cell_type": "code",
   "execution_count": 0,
   "metadata": {
    "application/vnd.databricks.v1+cell": {
     "cellMetadata": {
      "byteLimit": 2048000,
      "rowLimit": 10000
     },
     "inputWidgets": {},
     "nuid": "16b2fdbe-d0ce-4296-960d-51695305118e",
     "showTitle": false,
     "tableResultSettingsMap": {},
     "title": ""
    }
   },
   "outputs": [
    {
     "output_type": "stream",
     "name": "stdout",
     "output_type": "stream",
     "text": [
      "+--------+-----------+--------------------+--------------------+----+--------------------+--------------------+--------------------+------+--------+----+--------+----+--------------+--------+------------+------------+----+--------------------+------------+-------------+--------------------+\n|      ID|Case Number|                Date|               Block|IUCR|        Primary Type|         Description|Location Description|Arrest|Domestic|Beat|District|Ward|Community Area|FBI Code|X Coordinate|Y Coordinate|Year|          Updated On|    Latitude|    Longitude|            Location|\n+--------+-----------+--------------------+--------------------+----+--------------------+--------------------+--------------------+------+--------+----+--------+----+--------------+--------+------------+------------+----+--------------------+------------+-------------+--------------------+\n|13311263|   JG503434|07/29/2022 03:39:...|     023XX S TROY ST|1582|OFFENSE INVOLVING...|   CHILD PORNOGRAPHY|           RESIDENCE|  true|   false|1033|      10|  25|            30|      17|        null|        null|2022|04/18/2024 03:40:...|        null|         null|                null|\n|13053066|   JG103252|01/03/2023 04:44:...|039XX W WASHINGTO...|2017|           NARCOTICS|MANUFACTURE / DEL...|            SIDEWALK|  true|   false|1122|      11|  28|            26|      18|        null|        null|2023|01/20/2024 03:41:...|        null|         null|                null|\n|11227634|   JB147599|08/26/2017 10:00:...| 001XX W RANDOLPH ST|0281| CRIM SEXUAL ASSAULT|      NON-AGGRAVATED|         HOTEL/MOTEL| false|   false| 122|       1|  42|            32|      02|        null|        null|2017|02/11/2018 03:57:...|        null|         null|                null|\n|13203321|   JG415333|09/06/2023 05:00:...|    002XX N Wells st|1320|     CRIMINAL DAMAGE|          TO VEHICLE|PARKING LOT / GAR...| false|   false| 122|       1|  42|            32|      14|     1174694|     1901831|2023|11/04/2023 03:40:...|41.886018055|-87.633937881|(41.886018055, -8...|\n|13204489|   JG416325|09/06/2023 11:00:...|      0000X E 8TH ST|0810|               THEFT|           OVER $500|PARKING LOT / GAR...| false|   false| 123|       1|   4|            32|      06|     1176857|     1896680|2023|11/04/2023 03:40:...|41.871834768| -87.62615082|(41.871834768, -8...|\n+--------+-----------+--------------------+--------------------+----+--------------------+--------------------+--------------------+------+--------+----+--------+----+--------------+--------+------------+------------+----+--------------------+------------+-------------+--------------------+\nonly showing top 5 rows\n\n"
     ]
    }
   ],
   "source": [
    "#Displaying the first 5 rows of the dataframe\n",
    "df.show(5)"
   ]
  },
  {
   "cell_type": "code",
   "execution_count": 0,
   "metadata": {
    "application/vnd.databricks.v1+cell": {
     "cellMetadata": {
      "byteLimit": 2048000,
      "rowLimit": 10000
     },
     "inputWidgets": {},
     "nuid": "05ba65ce-5690-4e9c-b4d5-cb31ff882d5e",
     "showTitle": false,
     "tableResultSettingsMap": {},
     "title": ""
    }
   },
   "outputs": [
    {
     "output_type": "stream",
     "name": "stdout",
     "output_type": "stream",
     "text": [
      "root\n |-- ID: integer (nullable = true)\n |-- Case Number: string (nullable = true)\n |-- Date: string (nullable = true)\n |-- Block: string (nullable = true)\n |-- IUCR: string (nullable = true)\n |-- Primary Type: string (nullable = true)\n |-- Description: string (nullable = true)\n |-- Location Description: string (nullable = true)\n |-- Arrest: boolean (nullable = true)\n |-- Domestic: boolean (nullable = true)\n |-- Beat: integer (nullable = true)\n |-- District: integer (nullable = true)\n |-- Ward: integer (nullable = true)\n |-- Community Area: integer (nullable = true)\n |-- FBI Code: string (nullable = true)\n |-- X Coordinate: integer (nullable = true)\n |-- Y Coordinate: integer (nullable = true)\n |-- Year: integer (nullable = true)\n |-- Updated On: string (nullable = true)\n |-- Latitude: double (nullable = true)\n |-- Longitude: double (nullable = true)\n |-- Location: string (nullable = true)\n\n"
     ]
    }
   ],
   "source": [
    "#Printing the schema\n",
    "df.printSchema()"
   ]
  },
  {
   "cell_type": "code",
   "execution_count": 0,
   "metadata": {
    "application/vnd.databricks.v1+cell": {
     "cellMetadata": {
      "byteLimit": 2048000,
      "rowLimit": 10000
     },
     "inputWidgets": {},
     "nuid": "4e86ac42-18a3-4bb9-a882-4660a6095fc8",
     "showTitle": false,
     "tableResultSettingsMap": {},
     "title": ""
    }
   },
   "outputs": [
    {
     "output_type": "stream",
     "name": "stdout",
     "output_type": "stream",
     "text": [
      "Total Rows: 8287103\nTotal Columns: 22\n"
     ]
    }
   ],
   "source": [
    "#Counting the total number of rows\n",
    "row_count = df.count()\n",
    "print(f\"Total Rows: {row_count}\")\n",
    "\n",
    "#Counting the total number of columns\n",
    "col_count = len(df.columns)\n",
    "print(f\"Total Columns: {col_count}\")"
   ]
  },
  {
   "cell_type": "code",
   "execution_count": 0,
   "metadata": {
    "application/vnd.databricks.v1+cell": {
     "cellMetadata": {
      "byteLimit": 2048000,
      "rowLimit": 10000
     },
     "inputWidgets": {},
     "nuid": "6fd49659-d430-4e75-8edc-b6b23d1656c4",
     "showTitle": false,
     "tableResultSettingsMap": {},
     "title": ""
    }
   },
   "outputs": [],
   "source": [
    "#Creating a temporary SQL view\n",
    "df.createOrReplaceTempView(\"crime_data\")"
   ]
  },
  {
   "cell_type": "code",
   "execution_count": 0,
   "metadata": {
    "application/vnd.databricks.v1+cell": {
     "cellMetadata": {
      "byteLimit": 2048000,
      "implicitDf": true,
      "rowLimit": 10000
     },
     "inputWidgets": {},
     "nuid": "969f2e42-e2c4-401b-ad92-fc4e6536a294",
     "showTitle": false,
     "tableResultSettingsMap": {},
     "title": ""
    }
   },
   "outputs": [
    {
     "output_type": "display_data",
     "data": {
      "text/html": [
       "<style scoped>\n",
       "  .table-result-container {\n",
       "    max-height: 300px;\n",
       "    overflow: auto;\n",
       "  }\n",
       "  table, th, td {\n",
       "    border: 1px solid black;\n",
       "    border-collapse: collapse;\n",
       "  }\n",
       "  th, td {\n",
       "    padding: 5px;\n",
       "  }\n",
       "  th {\n",
       "    text-align: left;\n",
       "  }\n",
       "</style><div class='table-result-container'><table class='table-result'><thead style='background-color: white'><tr><th>count(1)</th></tr></thead><tbody><tr><td>112551</td></tr></tbody></table></div>"
      ]
     },
     "metadata": {
      "application/vnd.databricks.v1+output": {
       "addedWidgets": {},
       "aggData": [],
       "aggError": "",
       "aggOverflow": false,
       "aggSchema": [],
       "aggSeriesLimitReached": false,
       "aggType": "",
       "arguments": {},
       "columnCustomDisplayInfos": {},
       "data": [
        [
         112551
        ]
       ],
       "datasetInfos": [],
       "dbfsResultPath": null,
       "isJsonSchema": true,
       "metadata": {},
       "overflow": false,
       "plotOptions": {
        "customPlotOptions": {},
        "displayType": "table",
        "pivotAggregation": null,
        "pivotColumns": null,
        "xColumns": null,
        "yColumns": null
       },
       "removedWidgets": [],
       "schema": [
        {
         "metadata": "{\"__autoGeneratedAlias\":\"true\"}",
         "name": "count(1)",
         "type": "\"long\""
        }
       ],
       "type": "table"
      }
     },
     "output_type": "display_data"
    }
   ],
   "source": [
    "#Counting the rows with a condition of ward=25 in SQL\n",
    "spark.sql(\"\"\"select count(*) from crime_data where ward = 25\"\"\").display()"
   ]
  },
  {
   "cell_type": "code",
   "execution_count": 0,
   "metadata": {
    "application/vnd.databricks.v1+cell": {
     "cellMetadata": {
      "byteLimit": 2048000,
      "implicitDf": true,
      "rowLimit": 10000
     },
     "inputWidgets": {},
     "nuid": "dd93e016-72ae-43e2-add3-a02777529312",
     "showTitle": false,
     "tableResultSettingsMap": {},
     "title": ""
    }
   },
   "outputs": [
    {
     "output_type": "display_data",
     "data": {
      "text/html": [
       "<style scoped>\n",
       "  .table-result-container {\n",
       "    max-height: 300px;\n",
       "    overflow: auto;\n",
       "  }\n",
       "  table, th, td {\n",
       "    border: 1px solid black;\n",
       "    border-collapse: collapse;\n",
       "  }\n",
       "  th, td {\n",
       "    padding: 5px;\n",
       "  }\n",
       "  th {\n",
       "    text-align: left;\n",
       "  }\n",
       "</style><div class='table-result-container'><table class='table-result'><thead style='background-color: white'><tr><th>count(DISTINCT ward)</th></tr></thead><tbody><tr><td>50</td></tr></tbody></table></div>"
      ]
     },
     "metadata": {
      "application/vnd.databricks.v1+output": {
       "addedWidgets": {},
       "aggData": [],
       "aggError": "",
       "aggOverflow": false,
       "aggSchema": [],
       "aggSeriesLimitReached": false,
       "aggType": "",
       "arguments": {},
       "columnCustomDisplayInfos": {},
       "data": [
        [
         50
        ]
       ],
       "datasetInfos": [],
       "dbfsResultPath": null,
       "isJsonSchema": true,
       "metadata": {},
       "overflow": false,
       "plotOptions": {
        "customPlotOptions": {},
        "displayType": "table",
        "pivotAggregation": null,
        "pivotColumns": null,
        "xColumns": null,
        "yColumns": null
       },
       "removedWidgets": [],
       "schema": [
        {
         "metadata": "{\"__autoGeneratedAlias\":\"true\"}",
         "name": "count(DISTINCT ward)",
         "type": "\"long\""
        }
       ],
       "type": "table"
      }
     },
     "output_type": "display_data"
    }
   ],
   "source": [
    "#Counting the distinct values and displaying the results\n",
    "spark.sql(\"\"\"select count(distinct ward) from crime_data\"\"\").display()"
   ]
  },
  {
   "cell_type": "code",
   "execution_count": 0,
   "metadata": {
    "application/vnd.databricks.v1+cell": {
     "cellMetadata": {
      "byteLimit": 2048000,
      "implicitDf": true,
      "rowLimit": 10000
     },
     "inputWidgets": {},
     "nuid": "63dc5191-1651-4809-9a93-99a11cd43684",
     "showTitle": false,
     "tableResultSettingsMap": {},
     "title": ""
    }
   },
   "outputs": [
    {
     "output_type": "display_data",
     "data": {
      "text/html": [
       "<style scoped>\n",
       "  .table-result-container {\n",
       "    max-height: 300px;\n",
       "    overflow: auto;\n",
       "  }\n",
       "  table, th, td {\n",
       "    border: 1px solid black;\n",
       "    border-collapse: collapse;\n",
       "  }\n",
       "  th, td {\n",
       "    padding: 5px;\n",
       "  }\n",
       "  th {\n",
       "    text-align: left;\n",
       "  }\n",
       "</style><div class='table-result-container'><table class='table-result'><thead style='background-color: white'><tr><th>primary type</th><th>total_count</th></tr></thead><tbody><tr><td>THEFT</td><td>1756670</td></tr><tr><td>BATTERY</td><td>1509985</td></tr><tr><td>CRIMINAL DAMAGE</td><td>942617</td></tr><tr><td>NARCOTICS</td><td>759840</td></tr><tr><td>ASSAULT</td><td>551605</td></tr><tr><td>OTHER OFFENSE</td><td>516016</td></tr><tr><td>BURGLARY</td><td>439783</td></tr><tr><td>MOTOR VEHICLE THEFT</td><td>421081</td></tr><tr><td>DECEPTIVE PRACTICE</td><td>378954</td></tr><tr><td>ROBBERY</td><td>311168</td></tr><tr><td>CRIMINAL TRESPASS</td><td>223720</td></tr><tr><td>WEAPONS VIOLATION</td><td>121676</td></tr><tr><td>PROSTITUTION</td><td>70302</td></tr><tr><td>OFFENSE INVOLVING CHILDREN</td><td>59404</td></tr><tr><td>PUBLIC PEACE VIOLATION</td><td>54152</td></tr><tr><td>SEX OFFENSE</td><td>33410</td></tr><tr><td>CRIM SEXUAL ASSAULT</td><td>27349</td></tr><tr><td>INTERFERENCE WITH PUBLIC OFFICER</td><td>19702</td></tr><tr><td>LIQUOR LAW VIOLATION</td><td>15277</td></tr><tr><td>GAMBLING</td><td>14653</td></tr><tr><td>ARSON</td><td>14196</td></tr><tr><td>HOMICIDE</td><td>13721</td></tr><tr><td>CRIMINAL SEXUAL ASSAULT</td><td>10367</td></tr><tr><td>KIDNAPPING</td><td>7446</td></tr><tr><td>STALKING</td><td>5807</td></tr><tr><td>INTIMIDATION</td><td>5019</td></tr><tr><td>CONCEALED CARRY LICENSE VIOLATION</td><td>1501</td></tr><tr><td>OBSCENITY</td><td>921</td></tr><tr><td>PUBLIC INDECENCY</td><td>214</td></tr><tr><td>NON-CRIMINAL</td><td>189</td></tr><tr><td>OTHER NARCOTIC VIOLATION</td><td>157</td></tr><tr><td>HUMAN TRAFFICKING</td><td>129</td></tr><tr><td>NON - CRIMINAL</td><td>38</td></tr><tr><td>RITUALISM</td><td>24</td></tr><tr><td>NON-CRIMINAL (SUBJECT SPECIFIED)</td><td>9</td></tr><tr><td>DOMESTIC VIOLENCE</td><td>1</td></tr></tbody></table></div>"
      ]
     },
     "metadata": {
      "application/vnd.databricks.v1+output": {
       "addedWidgets": {},
       "aggData": [],
       "aggError": "",
       "aggOverflow": false,
       "aggSchema": [],
       "aggSeriesLimitReached": false,
       "aggType": "",
       "arguments": {},
       "columnCustomDisplayInfos": {},
       "data": [
        [
         "THEFT",
         1756670
        ],
        [
         "BATTERY",
         1509985
        ],
        [
         "CRIMINAL DAMAGE",
         942617
        ],
        [
         "NARCOTICS",
         759840
        ],
        [
         "ASSAULT",
         551605
        ],
        [
         "OTHER OFFENSE",
         516016
        ],
        [
         "BURGLARY",
         439783
        ],
        [
         "MOTOR VEHICLE THEFT",
         421081
        ],
        [
         "DECEPTIVE PRACTICE",
         378954
        ],
        [
         "ROBBERY",
         311168
        ],
        [
         "CRIMINAL TRESPASS",
         223720
        ],
        [
         "WEAPONS VIOLATION",
         121676
        ],
        [
         "PROSTITUTION",
         70302
        ],
        [
         "OFFENSE INVOLVING CHILDREN",
         59404
        ],
        [
         "PUBLIC PEACE VIOLATION",
         54152
        ],
        [
         "SEX OFFENSE",
         33410
        ],
        [
         "CRIM SEXUAL ASSAULT",
         27349
        ],
        [
         "INTERFERENCE WITH PUBLIC OFFICER",
         19702
        ],
        [
         "LIQUOR LAW VIOLATION",
         15277
        ],
        [
         "GAMBLING",
         14653
        ],
        [
         "ARSON",
         14196
        ],
        [
         "HOMICIDE",
         13721
        ],
        [
         "CRIMINAL SEXUAL ASSAULT",
         10367
        ],
        [
         "KIDNAPPING",
         7446
        ],
        [
         "STALKING",
         5807
        ],
        [
         "INTIMIDATION",
         5019
        ],
        [
         "CONCEALED CARRY LICENSE VIOLATION",
         1501
        ],
        [
         "OBSCENITY",
         921
        ],
        [
         "PUBLIC INDECENCY",
         214
        ],
        [
         "NON-CRIMINAL",
         189
        ],
        [
         "OTHER NARCOTIC VIOLATION",
         157
        ],
        [
         "HUMAN TRAFFICKING",
         129
        ],
        [
         "NON - CRIMINAL",
         38
        ],
        [
         "RITUALISM",
         24
        ],
        [
         "NON-CRIMINAL (SUBJECT SPECIFIED)",
         9
        ],
        [
         "DOMESTIC VIOLENCE",
         1
        ]
       ],
       "datasetInfos": [],
       "dbfsResultPath": null,
       "isJsonSchema": true,
       "metadata": {},
       "overflow": false,
       "plotOptions": {
        "customPlotOptions": {},
        "displayType": "table",
        "pivotAggregation": null,
        "pivotColumns": null,
        "xColumns": null,
        "yColumns": null
       },
       "removedWidgets": [],
       "schema": [
        {
         "metadata": "{}",
         "name": "primary type",
         "type": "\"string\""
        },
        {
         "metadata": "{}",
         "name": "total_count",
         "type": "\"long\""
        }
       ],
       "type": "table"
      }
     },
     "output_type": "display_data"
    }
   ],
   "source": [
    "#Counting crimes by primary type and displaying them in a descending order\n",
    "spark.sql(\"\"\"select `primary type`, count(*) as total_count from crime_data group by `primary type` order by total_count desc\"\"\").display()"
   ]
  },
  {
   "cell_type": "code",
   "execution_count": 0,
   "metadata": {
    "application/vnd.databricks.v1+cell": {
     "cellMetadata": {
      "byteLimit": 2048000,
      "rowLimit": 10000
     },
     "inputWidgets": {},
     "nuid": "b334f79d-f8ad-41cd-991d-c86ffb611f9f",
     "showTitle": false,
     "tableResultSettingsMap": {},
     "title": ""
    }
   },
   "outputs": [],
   "source": [
    "#Importing column operations and sum function\n",
    "from pyspark.sql.functions import col, sum as _sum\n",
    "\n",
    "#Removing the rows where Case Number and Primary type is 0\n",
    "df = df.filter((col(\"Case Number\") != \"0\") & (col(\"Primary Type\") != \"0\"))"
   ]
  },
  {
   "cell_type": "code",
   "execution_count": 0,
   "metadata": {
    "application/vnd.databricks.v1+cell": {
     "cellMetadata": {
      "byteLimit": 2048000,
      "rowLimit": 10000
     },
     "inputWidgets": {},
     "nuid": "a5b1587b-83c2-4a3c-a723-4a850380d271",
     "showTitle": false,
     "tableResultSettingsMap": {},
     "title": ""
    }
   },
   "outputs": [],
   "source": [
    "#Removing the rows where ID is 0\n",
    "df = df.filter(col(\"ID\") != 0)"
   ]
  },
  {
   "cell_type": "code",
   "execution_count": 0,
   "metadata": {
    "application/vnd.databricks.v1+cell": {
     "cellMetadata": {
      "byteLimit": 2048000,
      "rowLimit": 10000
     },
     "inputWidgets": {},
     "nuid": "176e0098-4729-414b-b387-62d99dc88177",
     "showTitle": false,
     "tableResultSettingsMap": {},
     "title": ""
    }
   },
   "outputs": [
    {
     "output_type": "stream",
     "name": "stdout",
     "output_type": "stream",
     "text": [
      "+--------+-----------+--------------------+------------+-------------+\n|      ID|Case Number|        Primary Type|    Latitude|    Longitude|\n+--------+-----------+--------------------+------------+-------------+\n|13311263|   JG503434|OFFENSE INVOLVING...|        null|         null|\n|13053066|   JG103252|           NARCOTICS|        null|         null|\n|11227634|   JB147599| CRIM SEXUAL ASSAULT|        null|         null|\n|13203321|   JG415333|     CRIMINAL DAMAGE|41.886018055|-87.633937881|\n|13204489|   JG416325|               THEFT|41.871834768| -87.62615082|\n+--------+-----------+--------------------+------------+-------------+\nonly showing top 5 rows\n\n"
     ]
    }
   ],
   "source": [
    "#Displaying the first 5 rows of these selected columns\n",
    "df.select(\"ID\", \"Case Number\", \"Primary Type\", \"Latitude\", \"Longitude\").show(5)"
   ]
  },
  {
   "cell_type": "code",
   "execution_count": 0,
   "metadata": {
    "application/vnd.databricks.v1+cell": {
     "cellMetadata": {
      "byteLimit": 2048000,
      "rowLimit": 10000
     },
     "inputWidgets": {},
     "nuid": "9bd82cf4-d684-468b-bba0-c2b9b44b3632",
     "showTitle": false,
     "tableResultSettingsMap": {},
     "title": ""
    }
   },
   "outputs": [],
   "source": [
    "#Dropping the null values\n",
    "df = df.dropna(subset=[\"Primary Type\", \"Date\", \"Latitude\", \"Longitude\"])\n",
    "\n",
    "#Filling the null values\n",
    "df = df.fillna({\"Location Description\": \"UNKNOWN\"})"
   ]
  },
  {
   "cell_type": "code",
   "execution_count": 0,
   "metadata": {
    "application/vnd.databricks.v1+cell": {
     "cellMetadata": {
      "byteLimit": 2048000,
      "rowLimit": 10000
     },
     "inputWidgets": {},
     "nuid": "f8851e36-e765-4f9d-a2a4-47bfce181a3d",
     "showTitle": false,
     "tableResultSettingsMap": {},
     "title": ""
    }
   },
   "outputs": [],
   "source": [
    "#Dropping duplicate columns\n",
    "df = df.dropDuplicates([\"Case Number\"])"
   ]
  },
  {
   "cell_type": "code",
   "execution_count": 0,
   "metadata": {
    "application/vnd.databricks.v1+cell": {
     "cellMetadata": {
      "byteLimit": 2048000,
      "rowLimit": 10000
     },
     "inputWidgets": {},
     "nuid": "dc2e3e4b-123d-4c72-b417-1d443883d21f",
     "showTitle": false,
     "tableResultSettingsMap": {},
     "title": ""
    }
   },
   "outputs": [
    {
     "output_type": "stream",
     "name": "stdout",
     "output_type": "stream",
     "text": [
      "Out[15]: 0"
     ]
    }
   ],
   "source": [
    "#Verifying the duplicates\n",
    "df.groupBy(df.columns).count().filter(\"count > 1\").count()"
   ]
  },
  {
   "cell_type": "code",
   "execution_count": 0,
   "metadata": {
    "application/vnd.databricks.v1+cell": {
     "cellMetadata": {
      "byteLimit": 2048000,
      "rowLimit": 10000
     },
     "inputWidgets": {},
     "nuid": "6971911a-2835-4268-9813-2863a538e445",
     "showTitle": false,
     "tableResultSettingsMap": {},
     "title": ""
    }
   },
   "outputs": [],
   "source": [
    "#Keeping the rows where the years are between 2020 and 2025\n",
    "df = df.filter((col(\"Year\") >= 2000) & (col(\"Year\") <= 2025))\n",
    "\n",
    "#Filtering the rows based on Latitude and Longitude\n",
    "df = df.filter((col(\"Latitude\").between(41.0, 42.0)) & (col(\"Longitude\").between(-88.0, -87.0)))"
   ]
  },
  {
   "cell_type": "code",
   "execution_count": 0,
   "metadata": {
    "application/vnd.databricks.v1+cell": {
     "cellMetadata": {
      "byteLimit": 2048000,
      "rowLimit": 10000
     },
     "inputWidgets": {},
     "nuid": "5c9b45de-f411-42e2-9ec6-d6c48fcceea4",
     "showTitle": false,
     "tableResultSettingsMap": {},
     "title": ""
    }
   },
   "outputs": [],
   "source": [
    "#Importing the necessary functions\n",
    "from pyspark.sql.functions import upper, col\n",
    "\n",
    "#Converting the values in Primary type and Location Description to Uppercase\n",
    "df = df.withColumn(\"Primary Type\", upper(col(\"Primary Type\")))\n",
    "df = df.withColumn(\"Location Description\", upper(col(\"Location Description\")))"
   ]
  },
  {
   "cell_type": "code",
   "execution_count": 0,
   "metadata": {
    "application/vnd.databricks.v1+cell": {
     "cellMetadata": {
      "byteLimit": 2048000,
      "rowLimit": 10000
     },
     "inputWidgets": {},
     "nuid": "50af6afd-98c1-46a9-9ecb-f7fa234413d2",
     "showTitle": false,
     "tableResultSettingsMap": {},
     "title": ""
    }
   },
   "outputs": [],
   "source": [
    "#importing the time stamp function\n",
    "from pyspark.sql.functions import to_timestamp\n",
    "\n",
    "#Converting the Date string into timestamp format\n",
    "df = df.withColumn(\"Date\", to_timestamp(\"Date\", \"MM/dd/yyyy hh:mm:ss a\"))"
   ]
  },
  {
   "cell_type": "code",
   "execution_count": 0,
   "metadata": {
    "application/vnd.databricks.v1+cell": {
     "cellMetadata": {
      "byteLimit": 2048000,
      "rowLimit": 10000
     },
     "inputWidgets": {},
     "nuid": "4af2c11a-497f-47ad-8729-23c4e315f73f",
     "showTitle": false,
     "tableResultSettingsMap": {},
     "title": ""
    }
   },
   "outputs": [
    {
     "output_type": "stream",
     "name": "stdout",
     "output_type": "stream",
     "text": [
      "root\n |-- ID: integer (nullable = true)\n |-- Case Number: string (nullable = true)\n |-- Date: timestamp (nullable = true)\n |-- Block: string (nullable = true)\n |-- IUCR: string (nullable = true)\n |-- Primary Type: string (nullable = true)\n |-- Description: string (nullable = true)\n |-- Location Description: string (nullable = false)\n |-- Arrest: boolean (nullable = true)\n |-- Domestic: boolean (nullable = true)\n |-- Beat: integer (nullable = true)\n |-- District: integer (nullable = true)\n |-- Ward: integer (nullable = true)\n |-- Community Area: integer (nullable = true)\n |-- FBI Code: string (nullable = true)\n |-- X Coordinate: integer (nullable = true)\n |-- Y Coordinate: integer (nullable = true)\n |-- Year: integer (nullable = true)\n |-- Updated On: string (nullable = true)\n |-- Latitude: double (nullable = true)\n |-- Longitude: double (nullable = true)\n |-- Location: string (nullable = true)\n\n"
     ]
    }
   ],
   "source": [
    "#Printing the updated schema\n",
    "df.printSchema()"
   ]
  },
  {
   "cell_type": "code",
   "execution_count": 0,
   "metadata": {
    "application/vnd.databricks.v1+cell": {
     "cellMetadata": {
      "byteLimit": 2048000,
      "rowLimit": 10000
     },
     "inputWidgets": {},
     "nuid": "d8fc1db1-79c5-4e71-b0b0-c77455901e16",
     "showTitle": false,
     "tableResultSettingsMap": {},
     "title": ""
    }
   },
   "outputs": [
    {
     "output_type": "stream",
     "name": "stdout",
     "output_type": "stream",
     "text": [
      "+---+-----------+----+-----+----+------------+-----------+--------------------+------+--------+----+--------+------+--------------+--------+------------+------------+----+----------+--------+---------+--------+\n| ID|Case Number|Date|Block|IUCR|Primary Type|Description|Location Description|Arrest|Domestic|Beat|District|  Ward|Community Area|FBI Code|X Coordinate|Y Coordinate|Year|Updated On|Latitude|Longitude|Location|\n+---+-----------+----+-----+----+------------+-----------+--------------------+------+--------+----+--------+------+--------------+--------+------------+------------+----+----------+--------+---------+--------+\n|  0|          0|   0|    0|   0|           0|          0|                   0|     0|       0|   0|      46|592226|        590939|       0|           0|           0|   0|         0|       0|        0|       0|\n+---+-----------+----+-----+----+------------+-----------+--------------------+------+--------+----+--------+------+--------------+--------+------------+------------+----+----------+--------+---------+--------+\n\n"
     ]
    }
   ],
   "source": [
    "#Counting the null values\n",
    "null_values = df.select([\n",
    "    _sum(col(c).isNull().cast(\"int\")).alias(c) for c in df.columns\n",
    "])\n",
    "\n",
    "#Displaying the null values\n",
    "null_values.show()"
   ]
  },
  {
   "cell_type": "code",
   "execution_count": 0,
   "metadata": {
    "application/vnd.databricks.v1+cell": {
     "cellMetadata": {
      "byteLimit": 2048000,
      "rowLimit": 10000
     },
     "inputWidgets": {},
     "nuid": "f38af2c4-4394-404e-9e06-7e000d320ccd",
     "showTitle": false,
     "tableResultSettingsMap": {},
     "title": ""
    }
   },
   "outputs": [
    {
     "output_type": "stream",
     "name": "stdout",
     "output_type": "stream",
     "text": [
      "Out[21]: 0"
     ]
    }
   ],
   "source": [
    "#Counting the rows where ID, Primary Type and Latitude are 0\n",
    "df.filter(col(\"ID\") == 0).count()\n",
    "df.filter(col(\"Primary Type\") == \"0\").count()\n",
    "df.filter(col(\"Latitude\") > 90).count()"
   ]
  },
  {
   "cell_type": "code",
   "execution_count": 0,
   "metadata": {
    "application/vnd.databricks.v1+cell": {
     "cellMetadata": {
      "byteLimit": 2048000,
      "rowLimit": 10000
     },
     "inputWidgets": {},
     "nuid": "91544d94-e659-484b-ba72-b682892af2ad",
     "showTitle": false,
     "tableResultSettingsMap": {},
     "title": ""
    }
   },
   "outputs": [
    {
     "output_type": "stream",
     "name": "stdout",
     "output_type": "stream",
     "text": [
      "Out[22]: 8025603"
     ]
    }
   ],
   "source": [
    "#Counting the distinct case number values\n",
    "df.select(\"Case Number\").distinct().count()"
   ]
  },
  {
   "cell_type": "code",
   "execution_count": 0,
   "metadata": {
    "application/vnd.databricks.v1+cell": {
     "cellMetadata": {
      "byteLimit": 2048000,
      "rowLimit": 10000
     },
     "inputWidgets": {},
     "nuid": "d7d37070-fb01-48cb-8488-7dd9ef435965",
     "showTitle": false,
     "tableResultSettingsMap": {},
     "title": ""
    }
   },
   "outputs": [],
   "source": [
    "#Deleting the location column\n",
    "df = df.drop(\"Location\")"
   ]
  },
  {
   "cell_type": "code",
   "execution_count": 0,
   "metadata": {
    "application/vnd.databricks.v1+cell": {
     "cellMetadata": {
      "byteLimit": 2048000,
      "implicitDf": true,
      "rowLimit": 10000
     },
     "inputWidgets": {},
     "nuid": "439c2ebb-5bb0-4b9f-b553-92616b61fb65",
     "showTitle": false,
     "tableResultSettingsMap": {},
     "title": ""
    }
   },
   "outputs": [
    {
     "output_type": "display_data",
     "data": {
      "text/html": [
       "<style scoped>\n",
       "  .table-result-container {\n",
       "    max-height: 300px;\n",
       "    overflow: auto;\n",
       "  }\n",
       "  table, th, td {\n",
       "    border: 1px solid black;\n",
       "    border-collapse: collapse;\n",
       "  }\n",
       "  th, td {\n",
       "    padding: 5px;\n",
       "  }\n",
       "  th {\n",
       "    text-align: left;\n",
       "  }\n",
       "</style><div class='table-result-container'><table class='table-result'><thead style='background-color: white'><tr><th>id</th></tr></thead><tbody><tr><td>3575885</td></tr><tr><td>3596991</td></tr><tr><td>4437079</td></tr><tr><td>4740376</td></tr><tr><td>6376239</td></tr><tr><td>6580042</td></tr><tr><td>6549802</td></tr><tr><td>6585169</td></tr><tr><td>6577661</td></tr><tr><td>6580306</td></tr><tr><td>6588015</td></tr><tr><td>6583267</td></tr><tr><td>6462999</td></tr><tr><td>6560428</td></tr><tr><td>6514077</td></tr><tr><td>6593077</td></tr><tr><td>6588615</td></tr><tr><td>6420740</td></tr><tr><td>6459556</td></tr><tr><td>6562039</td></tr><tr><td>6534030</td></tr><tr><td>6555854</td></tr><tr><td>6519692</td></tr><tr><td>6587770</td></tr><tr><td>6594923</td></tr><tr><td>6534600</td></tr><tr><td>6420058</td></tr><tr><td>6576124</td></tr><tr><td>6486045</td></tr><tr><td>6516041</td></tr><tr><td>6595969</td></tr><tr><td>6569778</td></tr><tr><td>6488159</td></tr><tr><td>6582700</td></tr><tr><td>6591600</td></tr><tr><td>6451103</td></tr><tr><td>6579790</td></tr><tr><td>6580757</td></tr><tr><td>6578354</td></tr><tr><td>6561442</td></tr><tr><td>6580316</td></tr><tr><td>6405961</td></tr><tr><td>6594103</td></tr><tr><td>6580405</td></tr><tr><td>6590003</td></tr><tr><td>6579338</td></tr><tr><td>11181991</td></tr></tbody></table></div>"
      ]
     },
     "metadata": {
      "application/vnd.databricks.v1+output": {
       "addedWidgets": {},
       "aggData": [],
       "aggError": "",
       "aggOverflow": false,
       "aggSchema": [],
       "aggSeriesLimitReached": false,
       "aggType": "",
       "arguments": {},
       "columnCustomDisplayInfos": {},
       "data": [
        [
         3575885
        ],
        [
         3596991
        ],
        [
         4437079
        ],
        [
         4740376
        ],
        [
         6376239
        ],
        [
         6580042
        ],
        [
         6549802
        ],
        [
         6585169
        ],
        [
         6577661
        ],
        [
         6580306
        ],
        [
         6588015
        ],
        [
         6583267
        ],
        [
         6462999
        ],
        [
         6560428
        ],
        [
         6514077
        ],
        [
         6593077
        ],
        [
         6588615
        ],
        [
         6420740
        ],
        [
         6459556
        ],
        [
         6562039
        ],
        [
         6534030
        ],
        [
         6555854
        ],
        [
         6519692
        ],
        [
         6587770
        ],
        [
         6594923
        ],
        [
         6534600
        ],
        [
         6420058
        ],
        [
         6576124
        ],
        [
         6486045
        ],
        [
         6516041
        ],
        [
         6595969
        ],
        [
         6569778
        ],
        [
         6488159
        ],
        [
         6582700
        ],
        [
         6591600
        ],
        [
         6451103
        ],
        [
         6579790
        ],
        [
         6580757
        ],
        [
         6578354
        ],
        [
         6561442
        ],
        [
         6580316
        ],
        [
         6405961
        ],
        [
         6594103
        ],
        [
         6580405
        ],
        [
         6590003
        ],
        [
         6579338
        ],
        [
         11181991
        ]
       ],
       "datasetInfos": [],
       "dbfsResultPath": null,
       "isJsonSchema": true,
       "metadata": {},
       "overflow": false,
       "plotOptions": {
        "customPlotOptions": {},
        "displayType": "table",
        "pivotAggregation": null,
        "pivotColumns": null,
        "xColumns": null,
        "yColumns": null
       },
       "removedWidgets": [],
       "schema": [
        {
         "metadata": "{}",
         "name": "id",
         "type": "\"integer\""
        }
       ],
       "type": "table"
      }
     },
     "output_type": "display_data"
    }
   ],
   "source": [
    "#Verifying the nulls using the ID from crime_data with a condition\n",
    "spark.sql(\"\"\"\n",
    "select id from crime_data\n",
    "where district is null\"\"\").display()"
   ]
  },
  {
   "cell_type": "code",
   "execution_count": 0,
   "metadata": {
    "application/vnd.databricks.v1+cell": {
     "cellMetadata": {
      "byteLimit": 2048000,
      "rowLimit": 10000
     },
     "inputWidgets": {},
     "nuid": "8376c612-7408-46f6-8fc5-6f26141a0a13",
     "showTitle": false,
     "tableResultSettingsMap": {},
     "title": ""
    }
   },
   "outputs": [],
   "source": [
    "#Filling the null values with -1\n",
    "df = df.fillna({\"Ward\": -1, \"Community Area\": -1})"
   ]
  },
  {
   "cell_type": "code",
   "execution_count": 0,
   "metadata": {
    "application/vnd.databricks.v1+cell": {
     "cellMetadata": {
      "byteLimit": 2048000,
      "rowLimit": 10000
     },
     "inputWidgets": {},
     "nuid": "b0a4abc9-a189-4c1c-a45a-bf2f44bb1ad4",
     "showTitle": false,
     "tableResultSettingsMap": {},
     "title": ""
    }
   },
   "outputs": [],
   "source": [
    "#Keeping the rows where the values are not Null in District column\n",
    "df = df.filter(col(\"District\").isNotNull())"
   ]
  },
  {
   "cell_type": "code",
   "execution_count": 0,
   "metadata": {
    "application/vnd.databricks.v1+cell": {
     "cellMetadata": {
      "byteLimit": 2048000,
      "rowLimit": 10000
     },
     "inputWidgets": {},
     "nuid": "32dcc166-6351-41ee-964e-31a253353c29",
     "showTitle": false,
     "tableResultSettingsMap": {},
     "title": ""
    }
   },
   "outputs": [
    {
     "output_type": "stream",
     "name": "stdout",
     "output_type": "stream",
     "text": [
      "+---+-----------+----+-----+----+------------+-----------+--------------------+------+--------+----+--------+----+--------------+--------+------------+------------+----+----------+--------+---------+\n| ID|Case Number|Date|Block|IUCR|Primary Type|Description|Location Description|Arrest|Domestic|Beat|District|Ward|Community Area|FBI Code|X Coordinate|Y Coordinate|Year|Updated On|Latitude|Longitude|\n+---+-----------+----+-----+----+------------+-----------+--------------------+------+--------+----+--------+----+--------------+--------+------------+------------+----+----------+--------+---------+\n|  0|          0|   0|    0|   0|           0|          0|                   0|     0|       0|   0|       0|   0|             0|       0|           0|           0|   0|         0|       0|        0|\n+---+-----------+----+-----+----+------------+-----------+--------------------+------+--------+----+--------+----+--------------+--------+------------+------------+----+----------+--------+---------+\n\n"
     ]
    }
   ],
   "source": [
    "#Counting the null values\n",
    "null_values = df.select([\n",
    "    _sum(col(c).isNull().cast(\"int\")).alias(c) for c in df.columns\n",
    "])\n",
    "\n",
    "#Displaying the null values\n",
    "null_values.show()"
   ]
  },
  {
   "cell_type": "code",
   "execution_count": 0,
   "metadata": {
    "application/vnd.databricks.v1+cell": {
     "cellMetadata": {
      "byteLimit": 2048000,
      "rowLimit": 10000
     },
     "inputWidgets": {},
     "nuid": "6e99a485-e736-4c48-bc0b-02f63a4cf7fd",
     "showTitle": false,
     "tableResultSettingsMap": {},
     "title": ""
    }
   },
   "outputs": [
    {
     "output_type": "stream",
     "name": "stdout",
     "output_type": "stream",
     "text": [
      "Out[28]: 8025557"
     ]
    }
   ],
   "source": [
    "#Counting the total rows\n",
    "df.count()\n"
   ]
  },
  {
   "cell_type": "markdown",
   "metadata": {
    "application/vnd.databricks.v1+cell": {
     "cellMetadata": {
      "byteLimit": 2048000,
      "rowLimit": 10000
     },
     "inputWidgets": {},
     "nuid": "a8171109-b0d1-4463-b746-82da97af5fb3",
     "showTitle": false,
     "tableResultSettingsMap": {},
     "title": ""
    }
   },
   "source": [
    "## **Exploratory Data Analysis**"
   ]
  },
  {
   "cell_type": "markdown",
   "metadata": {
    "application/vnd.databricks.v1+cell": {
     "cellMetadata": {
      "byteLimit": 2048000,
      "rowLimit": 10000
     },
     "inputWidgets": {},
     "nuid": "bf8079ca-d627-4c02-9f48-977426310434",
     "showTitle": false,
     "tableResultSettingsMap": {},
     "title": ""
    }
   },
   "source": [
    "Summary Statistics using describe()"
   ]
  },
  {
   "cell_type": "code",
   "execution_count": 0,
   "metadata": {
    "application/vnd.databricks.v1+cell": {
     "cellMetadata": {
      "byteLimit": 2048000,
      "rowLimit": 10000
     },
     "inputWidgets": {},
     "nuid": "b6ca1500-9581-499b-be9e-52cbc2f0b7e0",
     "showTitle": false,
     "tableResultSettingsMap": {},
     "title": ""
    }
   },
   "outputs": [
    {
     "output_type": "stream",
     "name": "stdout",
     "output_type": "stream",
     "text": [
      "+-------+------------------+------------------+------------------+------------------+-----------------+---------------+--------------------+------------------+------------------+------------------+-----------------+------------------+------------------+------------------+------------------+--------------------+------------------+-------------------+\n|summary|                ID|       Case Number|             Block|              IUCR|     Primary Type|    Description|Location Description|              Beat|          District|              Ward|   Community Area|          FBI Code|      X Coordinate|      Y Coordinate|              Year|          Updated On|          Latitude|          Longitude|\n+-------+------------------+------------------+------------------+------------------+-----------------+---------------+--------------------+------------------+------------------+------------------+-----------------+------------------+------------------+------------------+------------------+--------------------+------------------+-------------------+\n|  count|           8025557|           8025557|           8025557|           8025557|          8025557|        8025557|             8025557|           8025557|           8025557|           8025557|          8025557|           8025557|           8025557|           8025557|           8025557|             8025557|           8025557|            8025557|\n|   mean| 7402244.820784277|          277222.5|              null|1115.7886795352865|             null|           null|                null|1158.9437619096095|11.038569659401833|20.523275331543967|35.27701479162132|12.007445099780284|1164738.5278642965|1884632.9491951773|2010.7710075450216|                null|41.839026211444484| -87.67102682005049|\n| stddev|3715074.8244507215|155025.77649001902|              null| 812.0073999515039|             null|           null|                null| 688.7113361198197| 6.796540229863795| 14.33521280037457| 22.7682288919454| 7.288801768578088|16329.240904272438|30457.720249611215| 6.891404753027871|                null|0.0837761874752417|0.05943606955776863|\n|    min|               634|         01G050460|    0000X E 100 PL|              0110|            ARSON| $300 AND UNDER|\"CTA \"\"L\"\" PLATFORM\"|               111|                 1|                -1|               -1|               01A|           1091242|           1813894|              2001|01/01/2007 07:32:...|      41.644585429|      -87.939732936|\n|    max|          13793178|         ZZZ199957|138XX S DOTY AVE W|              9901|WEAPONS VIOLATION|WIREROOM/SPORTS|                YMCA|              2535|                31|                50|               77|                27|           1205119|           1943306|              2025|12/31/2024 03:41:...|      41.999999972|      -87.524529378|\n+-------+------------------+------------------+------------------+------------------+-----------------+---------------+--------------------+------------------+------------------+------------------+-----------------+------------------+------------------+------------------+------------------+--------------------+------------------+-------------------+\n\n"
     ]
    }
   ],
   "source": [
    "# Displaying summary statistics (count, mean, stddev, min, max)\n",
    "df.describe().show()\n"
   ]
  },
  {
   "cell_type": "code",
   "execution_count": 0,
   "metadata": {
    "application/vnd.databricks.v1+cell": {
     "cellMetadata": {
      "byteLimit": 2048000,
      "rowLimit": 10000
     },
     "inputWidgets": {},
     "nuid": "fd98b634-98dc-42e2-affb-87a9fb9d48f3",
     "showTitle": false,
     "tableResultSettingsMap": {},
     "title": ""
    }
   },
   "outputs": [
    {
     "output_type": "stream",
     "name": "stdout",
     "output_type": "stream",
     "text": [
      "+-------+------------------+------------------+------------------+------------------+-----------------+-------------------+--------------------+\n|summary|              Year|              Beat|          District|              Ward|   Community Area|           Latitude|           Longitude|\n+-------+------------------+------------------+------------------+------------------+-----------------+-------------------+--------------------+\n|  count|           8025557|           8025557|           8025557|           8025557|          8025557|            8025557|             8025557|\n|   mean|2010.7710075450216|1158.9437619096095|11.038569659401833|20.523275331543967|35.27701479162132|  41.83902621144674|   -87.6710268200504|\n| stddev|  6.89140475302255| 688.7113361198233|  6.79654022986386|14.335212800374576|22.76822889194544|0.08377618747524357|0.059436069557766716|\n|    min|              2001|               111|                 1|                -1|               -1|       41.644585429|       -87.939732936|\n|    25%|              2005|               614|                 6|                 7|               20|       41.767829352|       -87.714078116|\n|    50%|              2010|              1031|                10|                20|               30|       41.852882701|       -87.664653335|\n|    75%|              2016|              1713|                16|                31|               54|       41.903682148|       -87.627844798|\n|    max|              2025|              2535|                31|                50|               77|       41.999999972|       -87.524529378|\n+-------+------------------+------------------+------------------+------------------+-----------------+-------------------+--------------------+\n\n"
     ]
    }
   ],
   "source": [
    "# Displaying extended summary statistics (count, mean, stddev, ,in, 25%, 50%, 75%, max) for selected columns\n",
    "df.select(\n",
    "    \"Year\", \"Beat\", \"District\", \"Ward\", \n",
    "    \"Community Area\", \"Latitude\", \"Longitude\"\n",
    ").summary(\"count\", \"mean\", \"stddev\", \"min\", \"25%\", \"50%\", \"75%\", \"max\").show()"
   ]
  },
  {
   "cell_type": "code",
   "execution_count": 0,
   "metadata": {
    "application/vnd.databricks.v1+cell": {
     "cellMetadata": {
      "byteLimit": 2048000,
      "rowLimit": 10000
     },
     "inputWidgets": {},
     "nuid": "54dcc1a6-8192-45f9-be7f-fdf2a581f772",
     "showTitle": false,
     "tableResultSettingsMap": {},
     "title": ""
    }
   },
   "outputs": [],
   "source": [
    "#Creating a temporary SQL view of the cleaned dataframe\n",
    "df.createOrReplaceTempView(\"clean_crime_data\")"
   ]
  },
  {
   "cell_type": "code",
   "execution_count": 0,
   "metadata": {
    "application/vnd.databricks.v1+cell": {
     "cellMetadata": {
      "byteLimit": 2048000,
      "implicitDf": true,
      "rowLimit": 10000
     },
     "inputWidgets": {},
     "nuid": "15315418-5a52-4e4c-8eae-b0b421e45562",
     "showTitle": false,
     "tableResultSettingsMap": {},
     "title": ""
    }
   },
   "outputs": [
    {
     "output_type": "display_data",
     "data": {
      "text/html": [
       "<style scoped>\n",
       "  .table-result-container {\n",
       "    max-height: 300px;\n",
       "    overflow: auto;\n",
       "  }\n",
       "  table, th, td {\n",
       "    border: 1px solid black;\n",
       "    border-collapse: collapse;\n",
       "  }\n",
       "  th, td {\n",
       "    padding: 5px;\n",
       "  }\n",
       "  th {\n",
       "    text-align: left;\n",
       "  }\n",
       "</style><div class='table-result-container'><table class='table-result'><thead style='background-color: white'><tr><th>ID</th><th>Case Number</th><th>Date</th><th>Block</th><th>IUCR</th><th>Primary Type</th><th>Description</th><th>Location Description</th><th>Arrest</th><th>Domestic</th><th>Beat</th><th>District</th><th>Ward</th><th>Community Area</th><th>FBI Code</th><th>X Coordinate</th><th>Y Coordinate</th><th>Year</th><th>Updated On</th><th>Latitude</th><th>Longitude</th></tr></thead><tbody><tr><td>21408</td><td>A417216</td><td>2010-09-06T07:00:00.000+0000</td><td>039XX S VINCENNES AVE</td><td>0110</td><td>HOMICIDE</td><td>FIRST DEGREE MURDER</td><td>AUTO</td><td>true</td><td>false</td><td>214</td><td>2</td><td>4</td><td>38</td><td>01A</td><td>1180666</td><td>1879108</td><td>2010</td><td>09/19/2022 03:41:05 PM</td><td>41.823529117</td><td>-87.612707977</td></tr><tr><td>1900</td><td>C153276</td><td>2002-12-05T13:50:00.000+0000</td><td>055XX W RICE ST</td><td>0110</td><td>HOMICIDE</td><td>FIRST DEGREE MURDER</td><td>STREET</td><td>true</td><td>false</td><td>1524</td><td>15</td><td>37</td><td>25</td><td>01A</td><td>1139235</td><td>1905124</td><td>2002</td><td>09/19/2022 03:41:05 PM</td><td>41.895773675</td><td>-87.764072031</td></tr><tr><td>1956</td><td>D212672</td><td>2002-12-31T09:30:00.000+0000</td><td>061XX S DREXEL AVE</td><td>0110</td><td>HOMICIDE</td><td>FIRST DEGREE MURDER</td><td>STREET</td><td>true</td><td>false</td><td>313</td><td>3</td><td>20</td><td>42</td><td>01A</td><td>1183061</td><td>1864566</td><td>2002</td><td>09/19/2022 03:41:05 PM</td><td>41.783569249</td><td>-87.604374166</td></tr><tr><td>1375032</td><td>F072578</td><td>2001-02-05T16:02:00.000+0000</td><td>083XX S BAKER AV</td><td>0460</td><td>BATTERY</td><td>SIMPLE</td><td>STREET</td><td>false</td><td>false</td><td>424</td><td>4</td><td>-1</td><td>-1</td><td>08B</td><td>1198542</td><td>1849538</td><td>2001</td><td>08/17/2015 03:03:40 PM</td><td>41.74195729</td><td>-87.548119531</td></tr><tr><td>1391053</td><td>F104558</td><td>2001-02-20T23:15:00.000+0000</td><td>031XX S SACRAMENTO AV</td><td>0460</td><td>BATTERY</td><td>SIMPLE</td><td>ALLEY</td><td>false</td><td>false</td><td>1033</td><td>10</td><td>-1</td><td>-1</td><td>08B</td><td>1156817</td><td>1883913</td><td>2001</td><td>08/17/2015 03:03:40 PM</td><td>41.837230208</td><td>-87.700071474</td></tr><tr><td>1348412</td><td>G 050552</td><td>2001-01-12T10:00:00.000+0000</td><td>010XX N MASSASOIT AV</td><td>0820</td><td>THEFT</td><td>$500 AND UNDER</td><td>CHA PARKING LOT/GROUNDS</td><td>false</td><td>false</td><td>1511</td><td>15</td><td>-1</td><td>-1</td><td>06</td><td>1137793</td><td>1906326</td><td>2001</td><td>08/17/2015 03:03:40 PM</td><td>41.899098245</td><td>-87.76933924</td></tr><tr><td>1309881</td><td>G000036</td><td>2001-01-01T00:07:00.000+0000</td><td>038XX W 65 ST</td><td>1310</td><td>CRIMINAL DAMAGE</td><td>TO PROPERTY</td><td>RESIDENCE</td><td>false</td><td>false</td><td>833</td><td>8</td><td>-1</td><td>-1</td><td>14</td><td>1152000</td><td>1861189</td><td>2001</td><td>08/17/2015 03:03:40 PM</td><td>41.774968402</td><td>-87.718343871</td></tr><tr><td>1312205</td><td>G000049</td><td>2001-01-01T00:15:00.000+0000</td><td>113XX S WENTWORTH AV</td><td>1310</td><td>CRIMINAL DAMAGE</td><td>TO PROPERTY</td><td>RESIDENCE</td><td>false</td><td>false</td><td>522</td><td>5</td><td>-1</td><td>-1</td><td>14</td><td>1176932</td><td>1829447</td><td>2001</td><td>08/17/2015 03:03:40 PM</td><td>41.687338661</td><td>-87.627900413</td></tr><tr><td>1319965</td><td>G000066</td><td>2001-01-01T00:50:00.000+0000</td><td>026XX W 84 PL</td><td>1310</td><td>CRIMINAL DAMAGE</td><td>TO PROPERTY</td><td>FOREST PRESERVE</td><td>false</td><td>false</td><td>835</td><td>8</td><td>-1</td><td>-1</td><td>14</td><td>1160288</td><td>1848529</td><td>2001</td><td>08/17/2015 03:03:40 PM</td><td>41.740060801</td><td>-87.688308961</td></tr><tr><td>1312546</td><td>G000145</td><td>2001-01-01T01:15:00.000+0000</td><td>060XX S MICHIGAN AV</td><td>031A</td><td>ROBBERY</td><td>ARMED: HANDGUN</td><td>OTHER</td><td>false</td><td>false</td><td>311</td><td>3</td><td>-1</td><td>-1</td><td>03</td><td>1178145</td><td>1865224</td><td>2001</td><td>08/17/2015 03:03:40 PM</td><td>41.785487819</td><td>-87.622377839</td></tr></tbody></table></div>"
      ]
     },
     "metadata": {
      "application/vnd.databricks.v1+output": {
       "addedWidgets": {},
       "aggData": [],
       "aggError": "",
       "aggOverflow": false,
       "aggSchema": [],
       "aggSeriesLimitReached": false,
       "aggType": "",
       "arguments": {},
       "columnCustomDisplayInfos": {},
       "data": [
        [
         21408,
         "A417216",
         "2010-09-06T07:00:00.000+0000",
         "039XX S VINCENNES AVE",
         "0110",
         "HOMICIDE",
         "FIRST DEGREE MURDER",
         "AUTO",
         true,
         false,
         214,
         2,
         4,
         38,
         "01A",
         1180666,
         1879108,
         2010,
         "09/19/2022 03:41:05 PM",
         41.823529117,
         -87.612707977
        ],
        [
         1900,
         "C153276",
         "2002-12-05T13:50:00.000+0000",
         "055XX W RICE ST",
         "0110",
         "HOMICIDE",
         "FIRST DEGREE MURDER",
         "STREET",
         true,
         false,
         1524,
         15,
         37,
         25,
         "01A",
         1139235,
         1905124,
         2002,
         "09/19/2022 03:41:05 PM",
         41.895773675,
         -87.764072031
        ],
        [
         1956,
         "D212672",
         "2002-12-31T09:30:00.000+0000",
         "061XX S DREXEL AVE",
         "0110",
         "HOMICIDE",
         "FIRST DEGREE MURDER",
         "STREET",
         true,
         false,
         313,
         3,
         20,
         42,
         "01A",
         1183061,
         1864566,
         2002,
         "09/19/2022 03:41:05 PM",
         41.783569249,
         -87.604374166
        ],
        [
         1375032,
         "F072578",
         "2001-02-05T16:02:00.000+0000",
         "083XX S BAKER AV",
         "0460",
         "BATTERY",
         "SIMPLE",
         "STREET",
         false,
         false,
         424,
         4,
         -1,
         -1,
         "08B",
         1198542,
         1849538,
         2001,
         "08/17/2015 03:03:40 PM",
         41.74195729,
         -87.548119531
        ],
        [
         1391053,
         "F104558",
         "2001-02-20T23:15:00.000+0000",
         "031XX S SACRAMENTO AV",
         "0460",
         "BATTERY",
         "SIMPLE",
         "ALLEY",
         false,
         false,
         1033,
         10,
         -1,
         -1,
         "08B",
         1156817,
         1883913,
         2001,
         "08/17/2015 03:03:40 PM",
         41.837230208,
         -87.700071474
        ],
        [
         1348412,
         "G 050552",
         "2001-01-12T10:00:00.000+0000",
         "010XX N MASSASOIT AV",
         "0820",
         "THEFT",
         "$500 AND UNDER",
         "CHA PARKING LOT/GROUNDS",
         false,
         false,
         1511,
         15,
         -1,
         -1,
         "06",
         1137793,
         1906326,
         2001,
         "08/17/2015 03:03:40 PM",
         41.899098245,
         -87.76933924
        ],
        [
         1309881,
         "G000036",
         "2001-01-01T00:07:00.000+0000",
         "038XX W 65 ST",
         "1310",
         "CRIMINAL DAMAGE",
         "TO PROPERTY",
         "RESIDENCE",
         false,
         false,
         833,
         8,
         -1,
         -1,
         "14",
         1152000,
         1861189,
         2001,
         "08/17/2015 03:03:40 PM",
         41.774968402,
         -87.718343871
        ],
        [
         1312205,
         "G000049",
         "2001-01-01T00:15:00.000+0000",
         "113XX S WENTWORTH AV",
         "1310",
         "CRIMINAL DAMAGE",
         "TO PROPERTY",
         "RESIDENCE",
         false,
         false,
         522,
         5,
         -1,
         -1,
         "14",
         1176932,
         1829447,
         2001,
         "08/17/2015 03:03:40 PM",
         41.687338661,
         -87.627900413
        ],
        [
         1319965,
         "G000066",
         "2001-01-01T00:50:00.000+0000",
         "026XX W 84 PL",
         "1310",
         "CRIMINAL DAMAGE",
         "TO PROPERTY",
         "FOREST PRESERVE",
         false,
         false,
         835,
         8,
         -1,
         -1,
         "14",
         1160288,
         1848529,
         2001,
         "08/17/2015 03:03:40 PM",
         41.740060801,
         -87.688308961
        ],
        [
         1312546,
         "G000145",
         "2001-01-01T01:15:00.000+0000",
         "060XX S MICHIGAN AV",
         "031A",
         "ROBBERY",
         "ARMED: HANDGUN",
         "OTHER",
         false,
         false,
         311,
         3,
         -1,
         -1,
         "03",
         1178145,
         1865224,
         2001,
         "08/17/2015 03:03:40 PM",
         41.785487819,
         -87.622377839
        ]
       ],
       "datasetInfos": [],
       "dbfsResultPath": null,
       "isJsonSchema": true,
       "metadata": {},
       "overflow": false,
       "plotOptions": {
        "customPlotOptions": {},
        "displayType": "table",
        "pivotAggregation": null,
        "pivotColumns": null,
        "xColumns": null,
        "yColumns": null
       },
       "removedWidgets": [],
       "schema": [
        {
         "metadata": "{}",
         "name": "ID",
         "type": "\"integer\""
        },
        {
         "metadata": "{}",
         "name": "Case Number",
         "type": "\"string\""
        },
        {
         "metadata": "{}",
         "name": "Date",
         "type": "\"timestamp\""
        },
        {
         "metadata": "{}",
         "name": "Block",
         "type": "\"string\""
        },
        {
         "metadata": "{}",
         "name": "IUCR",
         "type": "\"string\""
        },
        {
         "metadata": "{}",
         "name": "Primary Type",
         "type": "\"string\""
        },
        {
         "metadata": "{}",
         "name": "Description",
         "type": "\"string\""
        },
        {
         "metadata": "{}",
         "name": "Location Description",
         "type": "\"string\""
        },
        {
         "metadata": "{}",
         "name": "Arrest",
         "type": "\"boolean\""
        },
        {
         "metadata": "{}",
         "name": "Domestic",
         "type": "\"boolean\""
        },
        {
         "metadata": "{}",
         "name": "Beat",
         "type": "\"integer\""
        },
        {
         "metadata": "{}",
         "name": "District",
         "type": "\"integer\""
        },
        {
         "metadata": "{}",
         "name": "Ward",
         "type": "\"integer\""
        },
        {
         "metadata": "{}",
         "name": "Community Area",
         "type": "\"integer\""
        },
        {
         "metadata": "{}",
         "name": "FBI Code",
         "type": "\"string\""
        },
        {
         "metadata": "{}",
         "name": "X Coordinate",
         "type": "\"integer\""
        },
        {
         "metadata": "{}",
         "name": "Y Coordinate",
         "type": "\"integer\""
        },
        {
         "metadata": "{}",
         "name": "Year",
         "type": "\"integer\""
        },
        {
         "metadata": "{}",
         "name": "Updated On",
         "type": "\"string\""
        },
        {
         "metadata": "{}",
         "name": "Latitude",
         "type": "\"double\""
        },
        {
         "metadata": "{}",
         "name": "Longitude",
         "type": "\"double\""
        }
       ],
       "type": "table"
      }
     },
     "output_type": "display_data"
    }
   ],
   "source": [
    "# Preview of the first 10 rows to verify the data for further EDA\n",
    "spark.sql(\"\"\"\n",
    "select * from clean_crime_data\n",
    "limit 10\"\"\").display()"
   ]
  },
  {
   "cell_type": "code",
   "execution_count": 0,
   "metadata": {
    "application/vnd.databricks.v1+cell": {
     "cellMetadata": {
      "byteLimit": 2048000,
      "rowLimit": 10000
     },
     "inputWidgets": {},
     "nuid": "d3119891-fff0-4a59-bedc-266fb6727a8a",
     "showTitle": false,
     "tableResultSettingsMap": {},
     "title": ""
    }
   },
   "outputs": [
    {
     "output_type": "display_data",
     "data": {
      "text/html": [
       "<style scoped>\n",
       "  .table-result-container {\n",
       "    max-height: 300px;\n",
       "    overflow: auto;\n",
       "  }\n",
       "  table, th, td {\n",
       "    border: 1px solid black;\n",
       "    border-collapse: collapse;\n",
       "  }\n",
       "  th, td {\n",
       "    padding: 5px;\n",
       "  }\n",
       "  th {\n",
       "    text-align: left;\n",
       "  }\n",
       "</style><div class='table-result-container'><table class='table-result'><thead style='background-color: white'><tr><th>year</th><th>total_crimes</th></tr></thead><tbody><tr><td>2001</td><td>472236</td></tr><tr><td>2002</td><td>461302</td></tr><tr><td>2003</td><td>462355</td></tr><tr><td>2004</td><td>457397</td></tr><tr><td>2005</td><td>440144</td></tr><tr><td>2006</td><td>436252</td></tr><tr><td>2007</td><td>426813</td></tr><tr><td>2008</td><td>411216</td></tr><tr><td>2009</td><td>378163</td></tr><tr><td>2010</td><td>362534</td></tr><tr><td>2011</td><td>344388</td></tr><tr><td>2012</td><td>329015</td></tr><tr><td>2013</td><td>300525</td></tr><tr><td>2014</td><td>268684</td></tr><tr><td>2015</td><td>253255</td></tr><tr><td>2016</td><td>262180</td></tr><tr><td>2017</td><td>259343</td></tr><tr><td>2018</td><td>258428</td></tr><tr><td>2019</td><td>253867</td></tr><tr><td>2020</td><td>203536</td></tr><tr><td>2021</td><td>198384</td></tr><tr><td>2022</td><td>229401</td></tr><tr><td>2023</td><td>255052</td></tr><tr><td>2024</td><td>252155</td></tr><tr><td>2025</td><td>48932</td></tr></tbody></table></div>"
      ]
     },
     "metadata": {
      "application/vnd.databricks.v1+output": {
       "addedWidgets": {},
       "aggData": [],
       "aggError": "",
       "aggOverflow": false,
       "aggSchema": [],
       "aggSeriesLimitReached": false,
       "aggType": "",
       "arguments": {},
       "columnCustomDisplayInfos": {},
       "data": [
        [
         2001,
         472236
        ],
        [
         2002,
         461302
        ],
        [
         2003,
         462355
        ],
        [
         2004,
         457397
        ],
        [
         2005,
         440144
        ],
        [
         2006,
         436252
        ],
        [
         2007,
         426813
        ],
        [
         2008,
         411216
        ],
        [
         2009,
         378163
        ],
        [
         2010,
         362534
        ],
        [
         2011,
         344388
        ],
        [
         2012,
         329015
        ],
        [
         2013,
         300525
        ],
        [
         2014,
         268684
        ],
        [
         2015,
         253255
        ],
        [
         2016,
         262180
        ],
        [
         2017,
         259343
        ],
        [
         2018,
         258428
        ],
        [
         2019,
         253867
        ],
        [
         2020,
         203536
        ],
        [
         2021,
         198384
        ],
        [
         2022,
         229401
        ],
        [
         2023,
         255052
        ],
        [
         2024,
         252155
        ],
        [
         2025,
         48932
        ]
       ],
       "datasetInfos": [],
       "dbfsResultPath": null,
       "isJsonSchema": true,
       "metadata": {},
       "overflow": false,
       "plotOptions": {
        "customPlotOptions": {},
        "displayType": "table",
        "pivotAggregation": null,
        "pivotColumns": null,
        "xColumns": null,
        "yColumns": null
       },
       "removedWidgets": [],
       "schema": [
        {
         "metadata": "{}",
         "name": "year",
         "type": "\"integer\""
        },
        {
         "metadata": "{}",
         "name": "total_crimes",
         "type": "\"long\""
        }
       ],
       "type": "table"
      }
     },
     "output_type": "display_data"
    },
    {
     "output_type": "display_data",
     "data": {
      "text/plain": [
       "Databricks visualization. Run in Databricks to view."
      ]
     },
     "metadata": {
      "application/vnd.databricks.v1.subcommand+json": {
       "baseErrorDetails": null,
       "bindings": {},
       "collapsed": false,
       "command": "%python\n__backend_agg_display_orig = display\n__backend_agg_dfs = []\ndef __backend_agg_display_new(df):\n    __backend_agg_df_modules = [\"pandas.core.frame\", \"databricks.koalas.frame\", \"pyspark.sql.dataframe\", \"pyspark.pandas.frame\", \"pyspark.sql.connect.dataframe\"]\n    if (type(df).__module__ in __backend_agg_df_modules and type(df).__name__ == 'DataFrame') or isinstance(df, list):\n        __backend_agg_dfs.append(df)\n\ndisplay = __backend_agg_display_new\n\ndef __backend_agg_user_code_fn():\n    import base64\n    exec(base64.standard_b64decode(\"IyBRdWVyeWluZyB0byBjb3VudCB0aGUgbnVtYmVyIG9mIGNyaW1lcyBwZXIgeWVhcgpzcGFyay5zcWwoIiIic2VsZWN0IHllYXIsIGNvdW50KCopIGFzIHRvdGFsX2NyaW1lcyBmcm9tIGNsZWFuX2NyaW1lX2RhdGEKICAgIGdyb3VwIGJ5IFllYXIKICAgIG9yZGVyIGJ5IFllYXIKIiIiKS5kaXNwbGF5KCk=\").decode())\n\ntry:\n    # run user code\n    __backend_agg_user_code_fn()\n\n    #reset display function\n    display = __backend_agg_display_orig\n\n    if len(__backend_agg_dfs) > 0:\n        # create a temp view\n        if type(__backend_agg_dfs[0]).__module__ == \"databricks.koalas.frame\":\n            # koalas dataframe\n            __backend_agg_dfs[0].to_spark().createOrReplaceTempView(\"DatabricksViewcceea68\")\n        elif type(__backend_agg_dfs[0]).__module__ == \"pandas.core.frame\" or isinstance(__backend_agg_dfs[0], list):\n            # pandas dataframe\n            spark.createDataFrame(__backend_agg_dfs[0]).createOrReplaceTempView(\"DatabricksViewcceea68\")\n        else:\n            __backend_agg_dfs[0].createOrReplaceTempView(\"DatabricksViewcceea68\")\n        #run backend agg\n        display(spark.sql(\"\"\"WITH q AS (select * from DatabricksViewcceea68) SELECT `Year`,SUM(`total_crimes`) `column_bc53307147` FROM q GROUP BY `Year`\"\"\"))\n    else:\n        displayHTML(\"dataframe no longer exists. If you're using dataframe.display(), use display(dataframe) instead.\")\n\n\nfinally:\n    spark.sql(\"drop view if exists DatabricksViewcceea68\")\n    display = __backend_agg_display_orig\n    del __backend_agg_display_new\n    del __backend_agg_display_orig\n    del __backend_agg_dfs\n    del __backend_agg_user_code_fn\n\n",
       "commandTitle": "Visualization 1",
       "commandType": "auto",
       "commandVersion": 0,
       "commentThread": [],
       "commentsVisible": false,
       "contentSha256Hex": null,
       "customPlotOptions": {
        "redashChart": [
         {
          "key": "type",
          "value": "CHART"
         },
         {
          "key": "options",
          "value": {
           "alignYAxesAtZero": true,
           "coefficient": 1,
           "columnConfigurationMap": {
            "x": {
             "column": "Year",
             "id": "column_bc53307146"
            },
            "y": [
             {
              "column": "total_crimes",
              "id": "column_bc53307147",
              "transform": "SUM"
             }
            ]
           },
           "dateTimeFormat": "DD/MM/YYYY HH:mm",
           "direction": {
            "type": "counterclockwise"
           },
           "error_y": {
            "type": "data",
            "visible": true
           },
           "globalSeriesType": "line",
           "isAggregationOn": true,
           "legend": {
            "traceorder": "normal"
           },
           "missingValuesAsZero": true,
           "numberFormat": "0,0.[00000]",
           "percentFormat": "0[.]00%",
           "series": {
            "error_y": {
             "type": "data",
             "visible": true
            },
            "stacking": null
           },
           "seriesOptions": {
            "column_bc53307147": {
             "name": "total_crimes",
             "type": "line",
             "yAxis": 0
            }
           },
           "showDataLabels": false,
           "sizemode": "diameter",
           "sortX": true,
           "sortY": true,
           "swappedAxes": false,
           "textFormat": "",
           "useAggregationsUi": true,
           "valuesOptions": {},
           "version": 2,
           "xAxis": {
            "labels": {
             "enabled": true
            },
            "type": "-"
           },
           "yAxis": [
            {
             "type": "-"
            },
            {
             "opposite": true,
             "type": "-"
            }
           ]
          }
         }
        ]
       },
       "datasetPreviewNameToCmdIdMap": {},
       "diffDeletes": [],
       "diffInserts": [],
       "displayType": "redashChart",
       "error": null,
       "errorDetails": null,
       "errorSummary": null,
       "errorTraceType": null,
       "finishTime": 0,
       "globalVars": {},
       "guid": "",
       "height": "auto",
       "hideCommandCode": false,
       "hideCommandResult": false,
       "iPythonMetadata": null,
       "inputWidgets": {},
       "isLockedInExamMode": false,
       "latestUser": "a user",
       "latestUserId": null,
       "listResultMetadata": null,
       "metadata": {
        "byteLimit": 2048000,
        "rowLimit": 10000
       },
       "nuid": "334a84c9-1d6a-4a60-8c52-4bba7c4cc130",
       "origId": 0,
       "parentHierarchy": [],
       "pivotAggregation": null,
       "pivotColumns": null,
       "position": 37.0,
       "resultDbfsErrorMessage": null,
       "resultDbfsStatus": "INLINED_IN_TREE",
       "results": null,
       "showCommandTitle": false,
       "startTime": 0,
       "state": "finished",
       "streamStates": {},
       "subcommandOptions": {
        "queryPlan": {
         "groups": [
          {
           "column": "Year",
           "type": "column"
          }
         ],
         "selects": [
          {
           "column": "Year",
           "type": "column"
          },
          {
           "alias": "column_bc53307147",
           "args": [
            {
             "column": "total_crimes",
             "type": "column"
            }
           ],
           "function": "SUM",
           "type": "function"
          }
         ]
        }
       },
       "submitTime": 0,
       "subtype": "tableResultSubCmd.visualization",
       "tableResultIndex": 0,
       "tableResultSettingsMap": {},
       "useConsistentColors": false,
       "version": "CommandV1",
       "width": "auto",
       "workflows": [],
       "xColumns": null,
       "yColumns": null
      }
     },
     "output_type": "display_data"
    }
   ],
   "source": [
    "# Querying to count the number of crimes per year\n",
    "spark.sql(\"\"\"select year, count(*) as total_crimes from clean_crime_data\n",
    "    group by Year\n",
    "    order by Year\n",
    "\"\"\").display()"
   ]
  },
  {
   "cell_type": "markdown",
   "metadata": {
    "application/vnd.databricks.v1+cell": {
     "cellMetadata": {
      "byteLimit": 2048000,
      "rowLimit": 10000
     },
     "inputWidgets": {},
     "nuid": "bb1b7301-4641-4ac4-bb26-98042e12e7e2",
     "showTitle": false,
     "tableResultSettingsMap": {},
     "title": ""
    }
   },
   "source": [
    "The line graph shows a consistent decline in crime rates over the two decades\n"
   ]
  },
  {
   "cell_type": "code",
   "execution_count": 0,
   "metadata": {
    "application/vnd.databricks.v1+cell": {
     "cellMetadata": {
      "byteLimit": 2048000,
      "implicitDf": true,
      "rowLimit": 10000
     },
     "inputWidgets": {},
     "nuid": "75c6916e-92c2-428b-8f1a-17844e2293b0",
     "showTitle": false,
     "tableResultSettingsMap": {},
     "title": ""
    }
   },
   "outputs": [
    {
     "output_type": "display_data",
     "data": {
      "text/html": [
       "<style scoped>\n",
       "  .table-result-container {\n",
       "    max-height: 300px;\n",
       "    overflow: auto;\n",
       "  }\n",
       "  table, th, td {\n",
       "    border: 1px solid black;\n",
       "    border-collapse: collapse;\n",
       "  }\n",
       "  th, td {\n",
       "    padding: 5px;\n",
       "  }\n",
       "  th {\n",
       "    text-align: left;\n",
       "  }\n",
       "</style><div class='table-result-container'><table class='table-result'><thead style='background-color: white'><tr><th>Primary Type</th><th>total_crimes</th></tr></thead><tbody><tr><td>THEFT</td><td>1696629</td></tr><tr><td>BATTERY</td><td>1473933</td></tr><tr><td>CRIMINAL DAMAGE</td><td>915374</td></tr><tr><td>NARCOTICS</td><td>735298</td></tr><tr><td>ASSAULT</td><td>539159</td></tr><tr><td>OTHER OFFENSE</td><td>499244</td></tr><tr><td>BURGLARY</td><td>428862</td></tr><tr><td>MOTOR VEHICLE THEFT</td><td>411062</td></tr><tr><td>DECEPTIVE PRACTICE</td><td>349250</td></tr><tr><td>ROBBERY</td><td>303387</td></tr><tr><td>CRIMINAL TRESPASS</td><td>217243</td></tr><tr><td>WEAPONS VIOLATION</td><td>119762</td></tr><tr><td>PROSTITUTION</td><td>68619</td></tr><tr><td>OFFENSE INVOLVING CHILDREN</td><td>53998</td></tr><tr><td>PUBLIC PEACE VIOLATION</td><td>53070</td></tr><tr><td>SEX OFFENSE</td><td>30447</td></tr><tr><td>CRIM SEXUAL ASSAULT</td><td>25333</td></tr><tr><td>INTERFERENCE WITH PUBLIC OFFICER</td><td>19277</td></tr><tr><td>LIQUOR LAW VIOLATION</td><td>14714</td></tr><tr><td>GAMBLING</td><td>14361</td></tr><tr><td>ARSON</td><td>13913</td></tr><tr><td>HOMICIDE</td><td>12938</td></tr><tr><td>CRIMINAL SEXUAL ASSAULT</td><td>9025</td></tr><tr><td>KIDNAPPING</td><td>7214</td></tr><tr><td>STALKING</td><td>5562</td></tr><tr><td>INTIMIDATION</td><td>4844</td></tr><tr><td>CONCEALED CARRY LICENSE VIOLATION</td><td>1482</td></tr><tr><td>OBSCENITY</td><td>840</td></tr><tr><td>PUBLIC INDECENCY</td><td>210</td></tr><tr><td>NON-CRIMINAL</td><td>176</td></tr><tr><td>OTHER NARCOTIC VIOLATION</td><td>149</td></tr><tr><td>HUMAN TRAFFICKING</td><td>111</td></tr><tr><td>NON - CRIMINAL</td><td>38</td></tr><tr><td>RITUALISM</td><td>23</td></tr><tr><td>NON-CRIMINAL (SUBJECT SPECIFIED)</td><td>9</td></tr><tr><td>DOMESTIC VIOLENCE</td><td>1</td></tr></tbody></table></div>"
      ]
     },
     "metadata": {
      "application/vnd.databricks.v1+output": {
       "addedWidgets": {},
       "aggData": [],
       "aggError": "",
       "aggOverflow": false,
       "aggSchema": [],
       "aggSeriesLimitReached": false,
       "aggType": "",
       "arguments": {},
       "columnCustomDisplayInfos": {},
       "data": [
        [
         "THEFT",
         1696629
        ],
        [
         "BATTERY",
         1473933
        ],
        [
         "CRIMINAL DAMAGE",
         915374
        ],
        [
         "NARCOTICS",
         735298
        ],
        [
         "ASSAULT",
         539159
        ],
        [
         "OTHER OFFENSE",
         499244
        ],
        [
         "BURGLARY",
         428862
        ],
        [
         "MOTOR VEHICLE THEFT",
         411062
        ],
        [
         "DECEPTIVE PRACTICE",
         349250
        ],
        [
         "ROBBERY",
         303387
        ],
        [
         "CRIMINAL TRESPASS",
         217243
        ],
        [
         "WEAPONS VIOLATION",
         119762
        ],
        [
         "PROSTITUTION",
         68619
        ],
        [
         "OFFENSE INVOLVING CHILDREN",
         53998
        ],
        [
         "PUBLIC PEACE VIOLATION",
         53070
        ],
        [
         "SEX OFFENSE",
         30447
        ],
        [
         "CRIM SEXUAL ASSAULT",
         25333
        ],
        [
         "INTERFERENCE WITH PUBLIC OFFICER",
         19277
        ],
        [
         "LIQUOR LAW VIOLATION",
         14714
        ],
        [
         "GAMBLING",
         14361
        ],
        [
         "ARSON",
         13913
        ],
        [
         "HOMICIDE",
         12938
        ],
        [
         "CRIMINAL SEXUAL ASSAULT",
         9025
        ],
        [
         "KIDNAPPING",
         7214
        ],
        [
         "STALKING",
         5562
        ],
        [
         "INTIMIDATION",
         4844
        ],
        [
         "CONCEALED CARRY LICENSE VIOLATION",
         1482
        ],
        [
         "OBSCENITY",
         840
        ],
        [
         "PUBLIC INDECENCY",
         210
        ],
        [
         "NON-CRIMINAL",
         176
        ],
        [
         "OTHER NARCOTIC VIOLATION",
         149
        ],
        [
         "HUMAN TRAFFICKING",
         111
        ],
        [
         "NON - CRIMINAL",
         38
        ],
        [
         "RITUALISM",
         23
        ],
        [
         "NON-CRIMINAL (SUBJECT SPECIFIED)",
         9
        ],
        [
         "DOMESTIC VIOLENCE",
         1
        ]
       ],
       "datasetInfos": [],
       "dbfsResultPath": null,
       "isJsonSchema": true,
       "metadata": {},
       "overflow": false,
       "plotOptions": {
        "customPlotOptions": {},
        "displayType": "table",
        "pivotAggregation": null,
        "pivotColumns": null,
        "xColumns": null,
        "yColumns": null
       },
       "removedWidgets": [],
       "schema": [
        {
         "metadata": "{}",
         "name": "Primary Type",
         "type": "\"string\""
        },
        {
         "metadata": "{}",
         "name": "total_crimes",
         "type": "\"long\""
        }
       ],
       "type": "table"
      }
     },
     "output_type": "display_data"
    },
    {
     "output_type": "display_data",
     "data": {
      "text/plain": [
       "Databricks visualization. Run in Databricks to view."
      ]
     },
     "metadata": {
      "application/vnd.databricks.v1.subcommand+json": {
       "baseErrorDetails": null,
       "bindings": {},
       "collapsed": false,
       "command": "# Querying to count the total number of crimes for each Primary Type\nspark.sql(\"\"\"select `Primary Type`, count(*) as total_crimes from clean_crime_data\ngroup by `Primary Type`\norder by total_crimes DESC\"\"\").display()",
       "commandTitle": "Visualization 1",
       "commandType": "auto",
       "commandVersion": 0,
       "commentThread": [],
       "commentsVisible": false,
       "contentSha256Hex": null,
       "customPlotOptions": {
        "redashChart": [
         {
          "key": "type",
          "value": "WORD_CLOUD"
         },
         {
          "key": "options",
          "value": {
           "column": "Primary Type",
           "frequenciesColumn": "total_crimes",
           "wordCountLimit": {
            "max": null,
            "min": null
           },
           "wordLengthLimit": {
            "max": null,
            "min": null
           }
          }
         }
        ]
       },
       "datasetPreviewNameToCmdIdMap": {},
       "diffDeletes": [],
       "diffInserts": [],
       "displayType": "redashChart",
       "error": null,
       "errorDetails": null,
       "errorSummary": null,
       "errorTraceType": null,
       "finishTime": 0,
       "globalVars": {},
       "guid": "",
       "height": "auto",
       "hideCommandCode": false,
       "hideCommandResult": false,
       "iPythonMetadata": null,
       "inputWidgets": {},
       "isLockedInExamMode": false,
       "latestUser": "a user",
       "latestUserId": null,
       "listResultMetadata": null,
       "metadata": {
        "byteLimit": 2048000,
        "implicitDf": true,
        "rowLimit": 10000
       },
       "nuid": "c977f2f7-84ba-4731-bbeb-19803a5cbfc6",
       "origId": 0,
       "parentHierarchy": [],
       "pivotAggregation": null,
       "pivotColumns": null,
       "position": 38.0,
       "resultDbfsErrorMessage": null,
       "resultDbfsStatus": "INLINED_IN_TREE",
       "results": null,
       "showCommandTitle": false,
       "startTime": 0,
       "state": "finished",
       "streamStates": {},
       "subcommandOptions": {},
       "submitTime": 0,
       "subtype": "tableResultSubCmd.visualization",
       "tableResultIndex": 0,
       "tableResultSettingsMap": {},
       "useConsistentColors": false,
       "version": "CommandV1",
       "width": "auto",
       "workflows": [],
       "xColumns": null,
       "yColumns": null
      }
     },
     "output_type": "display_data"
    }
   ],
   "source": [
    "# Querying to count the total number of crimes for each Primary Type\n",
    "spark.sql(\"\"\"select `Primary Type`, count(*) as total_crimes from clean_crime_data\n",
    "group by `Primary Type`\n",
    "order by total_crimes DESC\"\"\").display()"
   ]
  },
  {
   "cell_type": "markdown",
   "metadata": {
    "application/vnd.databricks.v1+cell": {
     "cellMetadata": {
      "byteLimit": 2048000,
      "rowLimit": 10000
     },
     "inputWidgets": {},
     "nuid": "c261ab77-3b5d-40db-8ffc-4086a5d2ae30",
     "showTitle": false,
     "tableResultSettingsMap": {},
     "title": ""
    }
   },
   "source": [
    "The word cloud reveals that 'Theft', 'Battery', and 'Criminal Damage' are the most common crime types in the dataset, as indicated by their larger text sizes. This visualization highlights that a few key crime categories dominate the overall crime landscape.\n"
   ]
  },
  {
   "cell_type": "code",
   "execution_count": 0,
   "metadata": {
    "application/vnd.databricks.v1+cell": {
     "cellMetadata": {
      "byteLimit": 2048000,
      "implicitDf": true,
      "rowLimit": 10000
     },
     "inputWidgets": {},
     "nuid": "19407a98-d5bf-4d79-b912-77e195bf60dc",
     "showTitle": false,
     "tableResultSettingsMap": {},
     "title": ""
    }
   },
   "outputs": [
    {
     "output_type": "display_data",
     "data": {
      "text/html": [
       "<style scoped>\n",
       "  .table-result-container {\n",
       "    max-height: 300px;\n",
       "    overflow: auto;\n",
       "  }\n",
       "  table, th, td {\n",
       "    border: 1px solid black;\n",
       "    border-collapse: collapse;\n",
       "  }\n",
       "  th, td {\n",
       "    padding: 5px;\n",
       "  }\n",
       "  th {\n",
       "    text-align: left;\n",
       "  }\n",
       "</style><div class='table-result-container'><table class='table-result'><thead style='background-color: white'><tr><th>district</th><th>total_crimes</th></tr></thead><tbody><tr><td>8</td><td>551218</td></tr><tr><td>11</td><td>519635</td></tr><tr><td>6</td><td>479993</td></tr><tr><td>7</td><td>466858</td></tr><tr><td>4</td><td>465178</td></tr><tr><td>25</td><td>464183</td></tr><tr><td>3</td><td>415995</td></tr><tr><td>12</td><td>411020</td></tr><tr><td>9</td><td>398612</td></tr><tr><td>2</td><td>389250</td></tr><tr><td>19</td><td>371938</td></tr><tr><td>18</td><td>370356</td></tr><tr><td>5</td><td>359704</td></tr><tr><td>10</td><td>352630</td></tr><tr><td>15</td><td>346987</td></tr><tr><td>1</td><td>338513</td></tr><tr><td>14</td><td>315943</td></tr><tr><td>22</td><td>267304</td></tr><tr><td>16</td><td>264591</td></tr><tr><td>17</td><td>237552</td></tr><tr><td>20</td><td>146855</td></tr><tr><td>24</td><td>91029</td></tr><tr><td>31</td><td>209</td></tr><tr><td>21</td><td>4</td></tr></tbody></table></div>"
      ]
     },
     "metadata": {
      "application/vnd.databricks.v1+output": {
       "addedWidgets": {},
       "aggData": [],
       "aggError": "",
       "aggOverflow": false,
       "aggSchema": [],
       "aggSeriesLimitReached": false,
       "aggType": "",
       "arguments": {},
       "columnCustomDisplayInfos": {},
       "data": [
        [
         8,
         551218
        ],
        [
         11,
         519635
        ],
        [
         6,
         479993
        ],
        [
         7,
         466858
        ],
        [
         4,
         465178
        ],
        [
         25,
         464183
        ],
        [
         3,
         415995
        ],
        [
         12,
         411020
        ],
        [
         9,
         398612
        ],
        [
         2,
         389250
        ],
        [
         19,
         371938
        ],
        [
         18,
         370356
        ],
        [
         5,
         359704
        ],
        [
         10,
         352630
        ],
        [
         15,
         346987
        ],
        [
         1,
         338513
        ],
        [
         14,
         315943
        ],
        [
         22,
         267304
        ],
        [
         16,
         264591
        ],
        [
         17,
         237552
        ],
        [
         20,
         146855
        ],
        [
         24,
         91029
        ],
        [
         31,
         209
        ],
        [
         21,
         4
        ]
       ],
       "datasetInfos": [],
       "dbfsResultPath": null,
       "isJsonSchema": true,
       "metadata": {},
       "overflow": false,
       "plotOptions": {
        "customPlotOptions": {},
        "displayType": "table",
        "pivotAggregation": null,
        "pivotColumns": null,
        "xColumns": null,
        "yColumns": null
       },
       "removedWidgets": [],
       "schema": [
        {
         "metadata": "{}",
         "name": "district",
         "type": "\"integer\""
        },
        {
         "metadata": "{}",
         "name": "total_crimes",
         "type": "\"long\""
        }
       ],
       "type": "table"
      }
     },
     "output_type": "display_data"
    },
    {
     "output_type": "display_data",
     "data": {
      "text/plain": [
       "Databricks visualization. Run in Databricks to view."
      ]
     },
     "metadata": {
      "application/vnd.databricks.v1.subcommand+json": {
       "baseErrorDetails": null,
       "bindings": {},
       "collapsed": false,
       "command": "%python\n__backend_agg_display_orig = display\n__backend_agg_dfs = []\ndef __backend_agg_display_new(df):\n    __backend_agg_df_modules = [\"pandas.core.frame\", \"databricks.koalas.frame\", \"pyspark.sql.dataframe\", \"pyspark.pandas.frame\", \"pyspark.sql.connect.dataframe\"]\n    if (type(df).__module__ in __backend_agg_df_modules and type(df).__name__ == 'DataFrame') or isinstance(df, list):\n        __backend_agg_dfs.append(df)\n\ndisplay = __backend_agg_display_new\n\ndef __backend_agg_user_code_fn():\n    import base64\n    exec(base64.standard_b64decode(\"IyBRdWVyeWluZyB0byBjb3VudCB0aGUgdG90YWwgbnVtYmVyIG9mIGNyaW1lcyBpbiBlYWNoIGRpc3RyaWN0IGFuZCBzb3J0aW5nIHRoZW0Kc3Bhcmsuc3FsKCIiInNlbGVjdCBkaXN0aW5jdChkaXN0cmljdCksIGNvdW50KCopIGFzIHRvdGFsX2NyaW1lcyBmcm9tIGNsZWFuX2NyaW1lX2RhdGEKZ3JvdXAgYnkgZGlzdHJpY3QKb3JkZXIgYnkgdG90YWxfY3JpbWVzIGRlc2MiIiIpLmRpc3BsYXkoKQ==\").decode())\n\ntry:\n    # run user code\n    __backend_agg_user_code_fn()\n\n    #reset display function\n    display = __backend_agg_display_orig\n\n    if len(__backend_agg_dfs) > 0:\n        # create a temp view\n        if type(__backend_agg_dfs[0]).__module__ == \"databricks.koalas.frame\":\n            # koalas dataframe\n            __backend_agg_dfs[0].to_spark().createOrReplaceTempView(\"DatabricksView4c7d1c5\")\n        elif type(__backend_agg_dfs[0]).__module__ == \"pandas.core.frame\" or isinstance(__backend_agg_dfs[0], list):\n            # pandas dataframe\n            spark.createDataFrame(__backend_agg_dfs[0]).createOrReplaceTempView(\"DatabricksView4c7d1c5\")\n        else:\n            __backend_agg_dfs[0].createOrReplaceTempView(\"DatabricksView4c7d1c5\")\n        #run backend agg\n        display(spark.sql(\"\"\"WITH q AS (select * from DatabricksView4c7d1c5) SELECT `district`,SUM(`total_crimes`) `column_bc53307169` FROM q GROUP BY `district`\"\"\"))\n    else:\n        displayHTML(\"dataframe no longer exists. If you're using dataframe.display(), use display(dataframe) instead.\")\n\n\nfinally:\n    spark.sql(\"drop view if exists DatabricksView4c7d1c5\")\n    display = __backend_agg_display_orig\n    del __backend_agg_display_new\n    del __backend_agg_display_orig\n    del __backend_agg_dfs\n    del __backend_agg_user_code_fn\n\n",
       "commandTitle": "Visualization 1",
       "commandType": "auto",
       "commandVersion": 0,
       "commentThread": [],
       "commentsVisible": false,
       "contentSha256Hex": null,
       "customPlotOptions": {
        "redashChart": [
         {
          "key": "type",
          "value": "CHART"
         },
         {
          "key": "options",
          "value": {
           "alignYAxesAtZero": true,
           "coefficient": 1,
           "columnConfigurationMap": {
            "x": {
             "column": "district",
             "id": "column_bc53307166"
            },
            "y": [
             {
              "column": "total_crimes",
              "id": "column_bc53307169",
              "transform": "SUM"
             }
            ]
           },
           "dateTimeFormat": "DD/MM/YYYY HH:mm",
           "direction": {
            "type": "counterclockwise"
           },
           "error_y": {
            "type": "data",
            "visible": true
           },
           "globalSeriesType": "column",
           "hideXAxis": false,
           "isAggregationOn": true,
           "legend": {
            "traceorder": "normal"
           },
           "missingValuesAsZero": true,
           "numberFormat": "0,0.[00000]",
           "percentFormat": "0[.]00%",
           "series": {
            "error_y": {
             "type": "data",
             "visible": true
            },
            "stacking": null
           },
           "seriesOptions": {
            "column_bc53307169": {
             "color": "#E92828",
             "type": "column",
             "yAxis": 0
            }
           },
           "showDataLabels": true,
           "sizemode": "diameter",
           "sortX": true,
           "sortY": true,
           "swappedAxes": false,
           "textFormat": "",
           "useAggregationsUi": true,
           "valuesOptions": {},
           "version": 2,
           "xAxis": {
            "labels": {
             "enabled": true
            },
            "title": {
             "text": "District"
            },
            "type": "category"
           },
           "yAxis": [
            {
             "title": {
              "text": "Count of Total crimes"
             },
             "type": "-"
            },
            {
             "opposite": true,
             "title": {
              "text": null
             },
             "type": "-"
            }
           ]
          }
         }
        ]
       },
       "datasetPreviewNameToCmdIdMap": {},
       "diffDeletes": [],
       "diffInserts": [],
       "displayType": "redashChart",
       "error": null,
       "errorDetails": null,
       "errorSummary": null,
       "errorTraceType": null,
       "finishTime": 0,
       "globalVars": {},
       "guid": "",
       "height": "auto",
       "hideCommandCode": false,
       "hideCommandResult": false,
       "iPythonMetadata": null,
       "inputWidgets": {},
       "isLockedInExamMode": false,
       "latestUser": "a user",
       "latestUserId": null,
       "listResultMetadata": null,
       "metadata": {
        "byteLimit": 2048000,
        "implicitDf": true,
        "rowLimit": 10000
       },
       "nuid": "71fce5ed-93d0-4855-ac2a-02f6e7f8253d",
       "origId": 0,
       "parentHierarchy": [],
       "pivotAggregation": null,
       "pivotColumns": null,
       "position": 40.0,
       "resultDbfsErrorMessage": null,
       "resultDbfsStatus": "INLINED_IN_TREE",
       "results": null,
       "showCommandTitle": false,
       "startTime": 0,
       "state": "finished",
       "streamStates": {},
       "subcommandOptions": {
        "queryPlan": {
         "groups": [
          {
           "column": "district",
           "type": "column"
          }
         ],
         "selects": [
          {
           "column": "district",
           "type": "column"
          },
          {
           "alias": "column_bc53307169",
           "args": [
            {
             "column": "total_crimes",
             "type": "column"
            }
           ],
           "function": "SUM",
           "type": "function"
          }
         ]
        }
       },
       "submitTime": 0,
       "subtype": "tableResultSubCmd.visualization",
       "tableResultIndex": 0,
       "tableResultSettingsMap": {},
       "useConsistentColors": false,
       "version": "CommandV1",
       "width": "auto",
       "workflows": [],
       "xColumns": null,
       "yColumns": null
      }
     },
     "output_type": "display_data"
    }
   ],
   "source": [
    "# Querying to count the total number of crimes in each district and sorting them\n",
    "spark.sql(\"\"\"select distinct(district), count(*) as total_crimes from clean_crime_data\n",
    "group by district\n",
    "order by total_crimes desc\"\"\").display()"
   ]
  },
  {
   "cell_type": "markdown",
   "metadata": {
    "application/vnd.databricks.v1+cell": {
     "cellMetadata": {
      "byteLimit": 2048000,
      "rowLimit": 10000
     },
     "inputWidgets": {},
     "nuid": "2c9895af-422b-43dc-8a06-08e055476ed9",
     "showTitle": false,
     "tableResultSettingsMap": {},
     "title": ""
    }
   },
   "source": [
    "The bar chart shows that Districts 8 and 11 have the highest total crime counts, each exceeding 500,000 reported incidents. Districts 7 and 25 also report very high crime levels, above 450,000 crimes. In contrast, District 31 has an exceptionally low crime count, suggesting either a very low population or incomplete data. Most other districts fall in the 300,000 to 400,000 range, indicating moderate crime activity across the city."
   ]
  },
  {
   "cell_type": "code",
   "execution_count": 0,
   "metadata": {
    "application/vnd.databricks.v1+cell": {
     "cellMetadata": {
      "byteLimit": 2048000,
      "implicitDf": true,
      "rowLimit": 10000
     },
     "inputWidgets": {},
     "nuid": "89e34743-9ac4-4953-8895-873695ec0224",
     "showTitle": false,
     "tableResultSettingsMap": {},
     "title": ""
    }
   },
   "outputs": [
    {
     "output_type": "display_data",
     "data": {
      "text/html": [
       "<style scoped>\n",
       "  .table-result-container {\n",
       "    max-height: 300px;\n",
       "    overflow: auto;\n",
       "  }\n",
       "  table, th, td {\n",
       "    border: 1px solid black;\n",
       "    border-collapse: collapse;\n",
       "  }\n",
       "  th, td {\n",
       "    padding: 5px;\n",
       "  }\n",
       "  th {\n",
       "    text-align: left;\n",
       "  }\n",
       "</style><div class='table-result-container'><table class='table-result'><thead style='background-color: white'><tr><th>Primary Type</th><th>total_crimes</th><th>Arrest_percentage</th></tr></thead><tbody><tr><td>OFFENSE INVOLVING CHILDREN</td><td>53998</td><td>0.19</td></tr><tr><td>CRIMINAL SEXUAL ASSAULT</td><td>9025</td><td>0.07</td></tr><tr><td>STALKING</td><td>5562</td><td>0.13</td></tr><tr><td>PUBLIC PEACE VIOLATION</td><td>53070</td><td>0.63</td></tr><tr><td>OBSCENITY</td><td>840</td><td>0.76</td></tr><tr><td>ARSON</td><td>13913</td><td>0.12</td></tr><tr><td>GAMBLING</td><td>14361</td><td>0.99</td></tr><tr><td>CRIMINAL TRESPASS</td><td>217243</td><td>0.69</td></tr><tr><td>ASSAULT</td><td>539159</td><td>0.2</td></tr><tr><td>NON - CRIMINAL</td><td>38</td><td>0.16</td></tr><tr><td>LIQUOR LAW VIOLATION</td><td>14714</td><td>0.99</td></tr><tr><td>MOTOR VEHICLE THEFT</td><td>411062</td><td>0.08</td></tr><tr><td>THEFT</td><td>1696629</td><td>0.11</td></tr><tr><td>BATTERY</td><td>1473933</td><td>0.22</td></tr><tr><td>ROBBERY</td><td>303387</td><td>0.09</td></tr><tr><td>HOMICIDE</td><td>12938</td><td>0.47</td></tr><tr><td>RITUALISM</td><td>23</td><td>0.13</td></tr><tr><td>PUBLIC INDECENCY</td><td>210</td><td>0.98</td></tr><tr><td>CRIM SEXUAL ASSAULT</td><td>25333</td><td>0.16</td></tr><tr><td>HUMAN TRAFFICKING</td><td>111</td><td>0.09</td></tr><tr><td>INTIMIDATION</td><td>4844</td><td>0.15</td></tr><tr><td>PROSTITUTION</td><td>68619</td><td>1.0</td></tr><tr><td>DECEPTIVE PRACTICE</td><td>349250</td><td>0.13</td></tr><tr><td>CONCEALED CARRY LICENSE VIOLATION</td><td>1482</td><td>0.97</td></tr><tr><td>SEX OFFENSE</td><td>30447</td><td>0.26</td></tr><tr><td>CRIMINAL DAMAGE</td><td>915374</td><td>0.07</td></tr><tr><td>NARCOTICS</td><td>735298</td><td>0.99</td></tr><tr><td>NON-CRIMINAL</td><td>176</td><td>0.09</td></tr><tr><td>OTHER OFFENSE</td><td>499244</td><td>0.18</td></tr><tr><td>KIDNAPPING</td><td>7214</td><td>0.11</td></tr><tr><td>BURGLARY</td><td>428862</td><td>0.06</td></tr><tr><td>WEAPONS VIOLATION</td><td>119762</td><td>0.73</td></tr><tr><td>OTHER NARCOTIC VIOLATION</td><td>149</td><td>0.67</td></tr><tr><td>INTERFERENCE WITH PUBLIC OFFICER</td><td>19277</td><td>0.92</td></tr><tr><td>NON-CRIMINAL (SUBJECT SPECIFIED)</td><td>9</td><td>0.33</td></tr><tr><td>DOMESTIC VIOLENCE</td><td>1</td><td>1.0</td></tr></tbody></table></div>"
      ]
     },
     "metadata": {
      "application/vnd.databricks.v1+output": {
       "addedWidgets": {},
       "aggData": [],
       "aggError": "",
       "aggOverflow": false,
       "aggSchema": [],
       "aggSeriesLimitReached": false,
       "aggType": "",
       "arguments": {},
       "columnCustomDisplayInfos": {},
       "data": [
        [
         "OFFENSE INVOLVING CHILDREN",
         53998,
         0.19
        ],
        [
         "CRIMINAL SEXUAL ASSAULT",
         9025,
         0.07
        ],
        [
         "STALKING",
         5562,
         0.13
        ],
        [
         "PUBLIC PEACE VIOLATION",
         53070,
         0.63
        ],
        [
         "OBSCENITY",
         840,
         0.76
        ],
        [
         "ARSON",
         13913,
         0.12
        ],
        [
         "GAMBLING",
         14361,
         0.99
        ],
        [
         "CRIMINAL TRESPASS",
         217243,
         0.69
        ],
        [
         "ASSAULT",
         539159,
         0.2
        ],
        [
         "NON - CRIMINAL",
         38,
         0.16
        ],
        [
         "LIQUOR LAW VIOLATION",
         14714,
         0.99
        ],
        [
         "MOTOR VEHICLE THEFT",
         411062,
         0.08
        ],
        [
         "THEFT",
         1696629,
         0.11
        ],
        [
         "BATTERY",
         1473933,
         0.22
        ],
        [
         "ROBBERY",
         303387,
         0.09
        ],
        [
         "HOMICIDE",
         12938,
         0.47
        ],
        [
         "RITUALISM",
         23,
         0.13
        ],
        [
         "PUBLIC INDECENCY",
         210,
         0.98
        ],
        [
         "CRIM SEXUAL ASSAULT",
         25333,
         0.16
        ],
        [
         "HUMAN TRAFFICKING",
         111,
         0.09
        ],
        [
         "INTIMIDATION",
         4844,
         0.15
        ],
        [
         "PROSTITUTION",
         68619,
         1.0
        ],
        [
         "DECEPTIVE PRACTICE",
         349250,
         0.13
        ],
        [
         "CONCEALED CARRY LICENSE VIOLATION",
         1482,
         0.97
        ],
        [
         "SEX OFFENSE",
         30447,
         0.26
        ],
        [
         "CRIMINAL DAMAGE",
         915374,
         0.07
        ],
        [
         "NARCOTICS",
         735298,
         0.99
        ],
        [
         "NON-CRIMINAL",
         176,
         0.09
        ],
        [
         "OTHER OFFENSE",
         499244,
         0.18
        ],
        [
         "KIDNAPPING",
         7214,
         0.11
        ],
        [
         "BURGLARY",
         428862,
         0.06
        ],
        [
         "WEAPONS VIOLATION",
         119762,
         0.73
        ],
        [
         "OTHER NARCOTIC VIOLATION",
         149,
         0.67
        ],
        [
         "INTERFERENCE WITH PUBLIC OFFICER",
         19277,
         0.92
        ],
        [
         "NON-CRIMINAL (SUBJECT SPECIFIED)",
         9,
         0.33
        ],
        [
         "DOMESTIC VIOLENCE",
         1,
         1.0
        ]
       ],
       "datasetInfos": [],
       "dbfsResultPath": null,
       "isJsonSchema": true,
       "metadata": {},
       "overflow": false,
       "plotOptions": {
        "customPlotOptions": {},
        "displayType": "table",
        "pivotAggregation": null,
        "pivotColumns": null,
        "xColumns": null,
        "yColumns": null
       },
       "removedWidgets": [],
       "schema": [
        {
         "metadata": "{}",
         "name": "Primary Type",
         "type": "\"string\""
        },
        {
         "metadata": "{}",
         "name": "total_crimes",
         "type": "\"long\""
        },
        {
         "metadata": "{}",
         "name": "Arrest_percentage",
         "type": "\"double\""
        }
       ],
       "type": "table"
      }
     },
     "output_type": "display_data"
    },
    {
     "output_type": "display_data",
     "data": {
      "text/plain": [
       "Databricks visualization. Run in Databricks to view."
      ]
     },
     "metadata": {
      "application/vnd.databricks.v1.subcommand+json": {
       "baseErrorDetails": null,
       "bindings": {},
       "collapsed": false,
       "command": "%python\n__backend_agg_display_orig = display\n__backend_agg_dfs = []\ndef __backend_agg_display_new(df):\n    __backend_agg_df_modules = [\"pandas.core.frame\", \"databricks.koalas.frame\", \"pyspark.sql.dataframe\", \"pyspark.pandas.frame\", \"pyspark.sql.connect.dataframe\"]\n    if (type(df).__module__ in __backend_agg_df_modules and type(df).__name__ == 'DataFrame') or isinstance(df, list):\n        __backend_agg_dfs.append(df)\n\ndisplay = __backend_agg_display_new\n\ndef __backend_agg_user_code_fn():\n    import base64\n    exec(base64.standard_b64decode(\"IyBTcGFya1NRTCBRdWVyeSB0byBjb3VudCB0aGUgdG90YWwgbnVtYmVyIG9mIGNyaW1lcyBhbmQgY2FsY3VsYXRlIHRoZSBhdmVyYWdlIGFycmVzdCByYXRlIGFjY29yZGluZyB0byBlYWNoIFByaW1hcnkgVHlwZSBvZiBjcmltZQpzcGFyay5zcWwoIiIic2VsZWN0IGRpc3RpbmN0KGBQcmltYXJ5IFR5cGVgKSwgY291bnQoKikgYXMgdG90YWxfY3JpbWVzLCByb3VuZChhdmcoY2FzdChBcnJlc3QgYXMgaW50KSksMikgQXMgQXJyZXN0X3BlcmNlbnRhZ2UgCmZyb20gY2xlYW5fY3JpbWVfZGF0YQpncm91cCBieSBgUHJpbWFyeSBUeXBlYCIiIikuZGlzcGxheSgp\").decode())\n\ntry:\n    # run user code\n    __backend_agg_user_code_fn()\n\n    #reset display function\n    display = __backend_agg_display_orig\n\n    if len(__backend_agg_dfs) > 0:\n        # create a temp view\n        if type(__backend_agg_dfs[0]).__module__ == \"databricks.koalas.frame\":\n            # koalas dataframe\n            __backend_agg_dfs[0].to_spark().createOrReplaceTempView(\"DatabricksViewd1c1157\")\n        elif type(__backend_agg_dfs[0]).__module__ == \"pandas.core.frame\" or isinstance(__backend_agg_dfs[0], list):\n            # pandas dataframe\n            spark.createDataFrame(__backend_agg_dfs[0]).createOrReplaceTempView(\"DatabricksViewd1c1157\")\n        else:\n            __backend_agg_dfs[0].createOrReplaceTempView(\"DatabricksViewd1c1157\")\n        #run backend agg\n        display(spark.sql(\"\"\"WITH q AS (select * from DatabricksViewd1c1157) SELECT `Primary Type`,`Arrest_percentage`,SUM(`total_crimes`) `column_bc533071103` FROM q GROUP BY `Arrest_percentage`,`Primary Type`\"\"\"))\n    else:\n        displayHTML(\"dataframe no longer exists. If you're using dataframe.display(), use display(dataframe) instead.\")\n\n\nfinally:\n    spark.sql(\"drop view if exists DatabricksViewd1c1157\")\n    display = __backend_agg_display_orig\n    del __backend_agg_display_new\n    del __backend_agg_display_orig\n    del __backend_agg_dfs\n    del __backend_agg_user_code_fn\n\n",
       "commandTitle": "Visualization 1",
       "commandType": "auto",
       "commandVersion": 0,
       "commentThread": [],
       "commentsVisible": false,
       "contentSha256Hex": null,
       "customPlotOptions": {
        "redashChart": [
         {
          "key": "type",
          "value": "CHART"
         },
         {
          "key": "options",
          "value": {
           "alignYAxesAtZero": true,
           "coefficient": 1,
           "columnConfigurationMap": {
            "x": {
             "column": "Primary Type",
             "id": "column_bc53307199"
            },
            "y": [
             {
              "column": "Arrest_percentage",
              "id": "column_bc533071101"
             }
            ],
            "zVal": {
             "column": "total_crimes",
             "id": "column_bc533071103",
             "transform": "SUM"
            }
           },
           "dateTimeFormat": "DD/MM/YYYY HH:mm",
           "direction": {
            "type": "counterclockwise"
           },
           "error_y": {
            "type": "data",
            "visible": true
           },
           "globalSeriesType": "heatmap",
           "hideXAxis": false,
           "isAggregationOn": true,
           "legend": {
            "traceorder": "normal"
           },
           "missingValuesAsZero": true,
           "numberFormat": "0,0.[00000]",
           "percentFormat": "0[.]00%",
           "reverseX": false,
           "series": {
            "error_y": {
             "type": "data",
             "visible": true
            },
            "stacking": null
           },
           "seriesOptions": {
            "column_bc533071100": {
             "type": "heatmap",
             "yAxis": 0
            },
            "column_bc533071101": {
             "type": "heatmap",
             "yAxis": 0
            }
           },
           "showDataLabels": false,
           "sizemode": "diameter",
           "sortX": true,
           "sortY": true,
           "swappedAxes": false,
           "textFormat": "",
           "useAggregationsUi": true,
           "valuesOptions": {},
           "version": 2,
           "xAxis": {
            "labels": {
             "enabled": true
            },
            "type": "-"
           },
           "yAxis": [
            {
             "type": "-"
            },
            {
             "opposite": true,
             "type": "-"
            }
           ]
          }
         }
        ]
       },
       "datasetPreviewNameToCmdIdMap": {},
       "diffDeletes": [],
       "diffInserts": [],
       "displayType": "redashChart",
       "error": null,
       "errorDetails": null,
       "errorSummary": null,
       "errorTraceType": null,
       "finishTime": 0,
       "globalVars": {},
       "guid": "",
       "height": "auto",
       "hideCommandCode": false,
       "hideCommandResult": false,
       "iPythonMetadata": null,
       "inputWidgets": {},
       "isLockedInExamMode": false,
       "latestUser": "a user",
       "latestUserId": null,
       "listResultMetadata": null,
       "metadata": {
        "byteLimit": 2048000,
        "implicitDf": true,
        "rowLimit": 10000
       },
       "nuid": "1ec809ec-b3c8-43bb-8c46-2844bd375ab6",
       "origId": 0,
       "parentHierarchy": [],
       "pivotAggregation": null,
       "pivotColumns": null,
       "position": 41.0,
       "resultDbfsErrorMessage": null,
       "resultDbfsStatus": "INLINED_IN_TREE",
       "results": null,
       "showCommandTitle": false,
       "startTime": 0,
       "state": "finished",
       "streamStates": {},
       "subcommandOptions": {
        "queryPlan": {
         "groups": [
          {
           "column": "Primary Type",
           "type": "column"
          },
          {
           "column": "Arrest_percentage",
           "type": "column"
          }
         ],
         "selects": [
          {
           "column": "Primary Type",
           "type": "column"
          },
          {
           "column": "Arrest_percentage",
           "type": "column"
          },
          {
           "alias": "column_bc533071103",
           "args": [
            {
             "column": "total_crimes",
             "type": "column"
            }
           ],
           "function": "SUM",
           "type": "function"
          }
         ]
        }
       },
       "submitTime": 0,
       "subtype": "tableResultSubCmd.visualization",
       "tableResultIndex": 0,
       "tableResultSettingsMap": {},
       "useConsistentColors": false,
       "version": "CommandV1",
       "width": "auto",
       "workflows": [],
       "xColumns": null,
       "yColumns": null
      }
     },
     "output_type": "display_data"
    }
   ],
   "source": [
    "# SparkSQL Query to count the total number of crimes and calculate the average arrest rate according to each Primary Type of crime\n",
    "spark.sql(\"\"\"select distinct(`Primary Type`), count(*) as total_crimes, round(avg(cast(Arrest as int)),2) As Arrest_percentage \n",
    "from clean_crime_data\n",
    "group by `Primary Type`\"\"\").display()"
   ]
  },
  {
   "cell_type": "markdown",
   "metadata": {
    "application/vnd.databricks.v1+cell": {
     "cellMetadata": {
      "byteLimit": 2048000,
      "rowLimit": 10000
     },
     "inputWidgets": {},
     "nuid": "cd336baa-1c72-4d5e-80ca-159f01db71cb",
     "showTitle": false,
     "tableResultSettingsMap": {},
     "title": ""
    }
   },
   "source": [
    "The plot shows that serious crimes such as Homicide, Kidnapping, and Sex Offense tend to have higher arrest percentages, often exceeding 60%. In contrast, common crimes like Theft, Battery, and Criminal Damage exhibit much lower arrest rates, generally between 10% and 30%, despite their high frequency. This suggests that while serious crimes receive focused enforcement efforts, frequent crimes may face challenges in detection and prosecution. The color intensity highlights the total number of crimes, with Theft appearing as the most common but having a relatively lower arrest rate."
   ]
  },
  {
   "cell_type": "code",
   "execution_count": 0,
   "metadata": {
    "application/vnd.databricks.v1+cell": {
     "cellMetadata": {
      "byteLimit": 2048000,
      "implicitDf": true,
      "rowLimit": 10000
     },
     "inputWidgets": {},
     "nuid": "130e0354-0e68-4ed6-abc8-90102df0107f",
     "showTitle": false,
     "tableResultSettingsMap": {},
     "title": ""
    }
   },
   "outputs": [
    {
     "output_type": "display_data",
     "data": {
      "text/html": [
       "<style scoped>\n",
       "  .table-result-container {\n",
       "    max-height: 300px;\n",
       "    overflow: auto;\n",
       "  }\n",
       "  table, th, td {\n",
       "    border: 1px solid black;\n",
       "    border-collapse: collapse;\n",
       "  }\n",
       "  th, td {\n",
       "    padding: 5px;\n",
       "  }\n",
       "  th {\n",
       "    text-align: left;\n",
       "  }\n",
       "</style><div class='table-result-container'><table class='table-result'><thead style='background-color: white'><tr><th>Location Description</th><th>total_crimes_in_each_location</th></tr></thead><tbody><tr><td>STREET</td><td>2109114</td></tr><tr><td>RESIDENCE</td><td>1318355</td></tr><tr><td>APARTMENT</td><td>931494</td></tr><tr><td>SIDEWALK</td><td>735829</td></tr><tr><td>OTHER</td><td>258822</td></tr><tr><td>PARKING LOT/GARAGE(NON.RESID.)</td><td>197812</td></tr><tr><td>ALLEY</td><td>178364</td></tr><tr><td>SMALL RETAIL STORE</td><td>160117</td></tr></tbody></table></div>"
      ]
     },
     "metadata": {
      "application/vnd.databricks.v1+output": {
       "addedWidgets": {},
       "aggData": [],
       "aggError": "",
       "aggOverflow": false,
       "aggSchema": [],
       "aggSeriesLimitReached": false,
       "aggType": "",
       "arguments": {},
       "columnCustomDisplayInfos": {},
       "data": [
        [
         "STREET",
         2109114
        ],
        [
         "RESIDENCE",
         1318355
        ],
        [
         "APARTMENT",
         931494
        ],
        [
         "SIDEWALK",
         735829
        ],
        [
         "OTHER",
         258822
        ],
        [
         "PARKING LOT/GARAGE(NON.RESID.)",
         197812
        ],
        [
         "ALLEY",
         178364
        ],
        [
         "SMALL RETAIL STORE",
         160117
        ]
       ],
       "datasetInfos": [],
       "dbfsResultPath": null,
       "isJsonSchema": true,
       "metadata": {},
       "overflow": false,
       "plotOptions": {
        "customPlotOptions": {},
        "displayType": "table",
        "pivotAggregation": null,
        "pivotColumns": null,
        "xColumns": null,
        "yColumns": null
       },
       "removedWidgets": [],
       "schema": [
        {
         "metadata": "{}",
         "name": "Location Description",
         "type": "\"string\""
        },
        {
         "metadata": "{}",
         "name": "total_crimes_in_each_location",
         "type": "\"long\""
        }
       ],
       "type": "table"
      }
     },
     "output_type": "display_data"
    },
    {
     "output_type": "display_data",
     "data": {
      "text/plain": [
       "Databricks visualization. Run in Databricks to view."
      ]
     },
     "metadata": {
      "application/vnd.databricks.v1.subcommand+json": {
       "baseErrorDetails": null,
       "bindings": {},
       "collapsed": false,
       "command": "%python\n__backend_agg_display_orig = display\n__backend_agg_dfs = []\ndef __backend_agg_display_new(df):\n    __backend_agg_df_modules = [\"pandas.core.frame\", \"databricks.koalas.frame\", \"pyspark.sql.dataframe\", \"pyspark.pandas.frame\", \"pyspark.sql.connect.dataframe\"]\n    if (type(df).__module__ in __backend_agg_df_modules and type(df).__name__ == 'DataFrame') or isinstance(df, list):\n        __backend_agg_dfs.append(df)\n\ndisplay = __backend_agg_display_new\n\ndef __backend_agg_user_code_fn():\n    import base64\n    exec(base64.standard_b64decode(\"IyBTcGFya1NRTCBxdWVyeSB0byBjb3VudCB0aGUgY3JpbWVzIGJ5IGxvY2F0aW9ucyBhbmQgZmlsdGVyaW5nIHRoZW0gaWYgdGhlIGNyaW1lIGNvdW50IGlzIG1vcmUgdGhhbiAxNTAsMDAwCnNwYXJrLnNxbCgiIiIKc2VsZWN0IGBMb2NhdGlvbiBEZXNjcmlwdGlvbmAsIGNvdW50KCopIGFzIHRvdGFsX2NyaW1lc19pbl9lYWNoX2xvY2F0aW9uIGZyb20gY2xlYW5fY3JpbWVfZGF0YQpncm91cCBieSBgTG9jYXRpb24gRGVzY3JpcHRpb25gCmhhdmluZyB0b3RhbF9jcmltZXNfaW5fZWFjaF9sb2NhdGlvbiA+IDE1MDAwMApvcmRlciBieSB0b3RhbF9jcmltZXNfaW5fZWFjaF9sb2NhdGlvbiBkZXNjIiIiKS5kaXNwbGF5KCk=\").decode())\n\ntry:\n    # run user code\n    __backend_agg_user_code_fn()\n\n    #reset display function\n    display = __backend_agg_display_orig\n\n    if len(__backend_agg_dfs) > 0:\n        # create a temp view\n        if type(__backend_agg_dfs[0]).__module__ == \"databricks.koalas.frame\":\n            # koalas dataframe\n            __backend_agg_dfs[0].to_spark().createOrReplaceTempView(\"DatabricksViewa3e4263\")\n        elif type(__backend_agg_dfs[0]).__module__ == \"pandas.core.frame\" or isinstance(__backend_agg_dfs[0], list):\n            # pandas dataframe\n            spark.createDataFrame(__backend_agg_dfs[0]).createOrReplaceTempView(\"DatabricksViewa3e4263\")\n        else:\n            __backend_agg_dfs[0].createOrReplaceTempView(\"DatabricksViewa3e4263\")\n        #run backend agg\n        display(spark.sql(\"\"\"WITH q AS (select * from DatabricksViewa3e4263) SELECT `Location Description`,SUM(`total_crimes_in_each_location`) `column_bc533071110` FROM q GROUP BY `Location Description`\"\"\"))\n    else:\n        displayHTML(\"dataframe no longer exists. If you're using dataframe.display(), use display(dataframe) instead.\")\n\n\nfinally:\n    spark.sql(\"drop view if exists DatabricksViewa3e4263\")\n    display = __backend_agg_display_orig\n    del __backend_agg_display_new\n    del __backend_agg_display_orig\n    del __backend_agg_dfs\n    del __backend_agg_user_code_fn\n\n",
       "commandTitle": "Visualization 1",
       "commandType": "auto",
       "commandVersion": 0,
       "commentThread": [],
       "commentsVisible": false,
       "contentSha256Hex": null,
       "customPlotOptions": {
        "redashChart": [
         {
          "key": "type",
          "value": "CHART"
         },
         {
          "key": "options",
          "value": {
           "alignYAxesAtZero": true,
           "coefficient": 1,
           "columnConfigurationMap": {
            "x": {
             "column": "Location Description",
             "id": "column_bc533071109"
            },
            "y": [
             {
              "column": "total_crimes_in_each_location",
              "id": "column_bc533071110",
              "transform": "SUM"
             }
            ]
           },
           "dateTimeFormat": "DD/MM/YYYY HH:mm",
           "direction": {
            "type": "counterclockwise"
           },
           "error_y": {
            "type": "data",
            "visible": true
           },
           "globalSeriesType": "pie",
           "isAggregationOn": true,
           "legend": {
            "traceorder": "normal"
           },
           "missingValuesAsZero": true,
           "numberFormat": "0,0.[00000]",
           "percentFormat": "0[.]00%",
           "series": {
            "error_y": {
             "type": "data",
             "visible": true
            },
            "stacking": null
           },
           "seriesOptions": {
            "column_bc533071110": {
             "name": "total_crimes_in_each_location",
             "type": "pie",
             "yAxis": 0
            }
           },
           "showDataLabels": true,
           "sizemode": "diameter",
           "sortX": true,
           "sortY": true,
           "swappedAxes": false,
           "textFormat": "",
           "useAggregationsUi": true,
           "valuesOptions": {},
           "version": 2,
           "xAxis": {
            "labels": {
             "enabled": true
            },
            "type": "-"
           },
           "yAxis": [
            {
             "type": "-"
            },
            {
             "opposite": true,
             "type": "-"
            }
           ]
          }
         }
        ]
       },
       "datasetPreviewNameToCmdIdMap": {},
       "diffDeletes": [],
       "diffInserts": [],
       "displayType": "redashChart",
       "error": null,
       "errorDetails": null,
       "errorSummary": null,
       "errorTraceType": null,
       "finishTime": 0,
       "globalVars": {},
       "guid": "",
       "height": "auto",
       "hideCommandCode": false,
       "hideCommandResult": false,
       "iPythonMetadata": null,
       "inputWidgets": {},
       "isLockedInExamMode": false,
       "latestUser": "a user",
       "latestUserId": null,
       "listResultMetadata": null,
       "metadata": {
        "byteLimit": 2048000,
        "implicitDf": true,
        "rowLimit": 10000
       },
       "nuid": "a138db3f-13cb-4ecf-83d5-d10a573a826d",
       "origId": 0,
       "parentHierarchy": [],
       "pivotAggregation": null,
       "pivotColumns": null,
       "position": 42.0,
       "resultDbfsErrorMessage": null,
       "resultDbfsStatus": "INLINED_IN_TREE",
       "results": null,
       "showCommandTitle": false,
       "startTime": 0,
       "state": "finished",
       "streamStates": {},
       "subcommandOptions": {
        "queryPlan": {
         "groups": [
          {
           "column": "Location Description",
           "type": "column"
          }
         ],
         "selects": [
          {
           "column": "Location Description",
           "type": "column"
          },
          {
           "alias": "column_bc533071110",
           "args": [
            {
             "column": "total_crimes_in_each_location",
             "type": "column"
            }
           ],
           "function": "SUM",
           "type": "function"
          }
         ]
        }
       },
       "submitTime": 0,
       "subtype": "tableResultSubCmd.visualization",
       "tableResultIndex": 0,
       "tableResultSettingsMap": {},
       "useConsistentColors": false,
       "version": "CommandV1",
       "width": "auto",
       "workflows": [],
       "xColumns": null,
       "yColumns": null
      }
     },
     "output_type": "display_data"
    }
   ],
   "source": [
    "# SparkSQL query to count the crimes by locations and filtering them if the crime count is more than 150,000\n",
    "spark.sql(\"\"\"\n",
    "select `Location Description`, count(*) as total_crimes_in_each_location from clean_crime_data\n",
    "group by `Location Description`\n",
    "having total_crimes_in_each_location > 150000\n",
    "order by total_crimes_in_each_location desc\"\"\").display()"
   ]
  },
  {
   "cell_type": "markdown",
   "metadata": {
    "application/vnd.databricks.v1+cell": {
     "cellMetadata": {
      "byteLimit": 2048000,
      "rowLimit": 10000
     },
     "inputWidgets": {},
     "nuid": "daf9d804-8b9d-405d-8527-ecacf83dae2a",
     "showTitle": false,
     "tableResultSettingsMap": {},
     "title": ""
    }
   },
   "source": [
    "The donut chart shows that the majority of crimes occur on streets (35.8%), followed by residences (22.4%), apartments (15.8%), and sidewalks (12.5%). Smaller proportions of crimes happen in areas like parking lots, alleys, and small retail stores. Public spaces and residential areas are the primary hotspots for criminal activity.\n"
   ]
  },
  {
   "cell_type": "code",
   "execution_count": 0,
   "metadata": {
    "application/vnd.databricks.v1+cell": {
     "cellMetadata": {
      "byteLimit": 2048000,
      "implicitDf": true,
      "rowLimit": 10000
     },
     "inputWidgets": {},
     "nuid": "9116bb47-250f-4d4d-8f1c-1cbacc7ce8f2",
     "showTitle": false,
     "tableResultSettingsMap": {},
     "title": ""
    }
   },
   "outputs": [
    {
     "output_type": "display_data",
     "data": {
      "text/html": [
       "<style scoped>\n",
       "  .table-result-container {\n",
       "    max-height: 300px;\n",
       "    overflow: auto;\n",
       "  }\n",
       "  table, th, td {\n",
       "    border: 1px solid black;\n",
       "    border-collapse: collapse;\n",
       "  }\n",
       "  th, td {\n",
       "    padding: 5px;\n",
       "  }\n",
       "  th {\n",
       "    text-align: left;\n",
       "  }\n",
       "</style><div class='table-result-container'><table class='table-result'><thead style='background-color: white'><tr><th>arrest</th><th>count(1)</th></tr></thead><tbody><tr><td>true</td><td>2045465</td></tr><tr><td>false</td><td>5980092</td></tr></tbody></table></div>"
      ]
     },
     "metadata": {
      "application/vnd.databricks.v1+output": {
       "addedWidgets": {},
       "aggData": [],
       "aggError": "",
       "aggOverflow": false,
       "aggSchema": [],
       "aggSeriesLimitReached": false,
       "aggType": "",
       "arguments": {},
       "columnCustomDisplayInfos": {},
       "data": [
        [
         true,
         2045465
        ],
        [
         false,
         5980092
        ]
       ],
       "datasetInfos": [],
       "dbfsResultPath": null,
       "isJsonSchema": true,
       "metadata": {},
       "overflow": false,
       "plotOptions": {
        "customPlotOptions": {},
        "displayType": "table",
        "pivotAggregation": null,
        "pivotColumns": null,
        "xColumns": null,
        "yColumns": null
       },
       "removedWidgets": [],
       "schema": [
        {
         "metadata": "{}",
         "name": "arrest",
         "type": "\"boolean\""
        },
        {
         "metadata": "{\"__autoGeneratedAlias\":\"true\"}",
         "name": "count(1)",
         "type": "\"long\""
        }
       ],
       "type": "table"
      }
     },
     "output_type": "display_data"
    },
    {
     "output_type": "display_data",
     "data": {
      "text/plain": [
       "Databricks visualization. Run in Databricks to view."
      ]
     },
     "metadata": {
      "application/vnd.databricks.v1.subcommand+json": {
       "baseErrorDetails": null,
       "bindings": {},
       "collapsed": false,
       "command": "%python\n__backend_agg_display_orig = display\n__backend_agg_dfs = []\ndef __backend_agg_display_new(df):\n    __backend_agg_df_modules = [\"pandas.core.frame\", \"databricks.koalas.frame\", \"pyspark.sql.dataframe\", \"pyspark.pandas.frame\", \"pyspark.sql.connect.dataframe\"]\n    if (type(df).__module__ in __backend_agg_df_modules and type(df).__name__ == 'DataFrame') or isinstance(df, list):\n        __backend_agg_dfs.append(df)\n\ndisplay = __backend_agg_display_new\n\ndef __backend_agg_user_code_fn():\n    import base64\n    exec(base64.standard_b64decode(\"IyBTcGFya1NRTCBxdWVyeSB0byBjb3VudCB0aGUgbnVtYmVyIG9mIGNyaW1lcyBiYXNlZCBvbiB3aGV0aGVyIGFuIGFycmVzdCB3YXMgbWFkZSBvciBub3QKc3Bhcmsuc3FsKCIiIgpzZWxlY3QgYXJyZXN0LCBjb3VudCgqKSBmcm9tIGNsZWFuX2NyaW1lX2RhdGEKZ3JvdXAgYnkgYXJyZXN0IiIiKS5kaXNwbGF5KCk=\").decode())\n\ntry:\n    # run user code\n    __backend_agg_user_code_fn()\n\n    #reset display function\n    display = __backend_agg_display_orig\n\n    if len(__backend_agg_dfs) > 0:\n        # create a temp view\n        if type(__backend_agg_dfs[0]).__module__ == \"databricks.koalas.frame\":\n            # koalas dataframe\n            __backend_agg_dfs[0].to_spark().createOrReplaceTempView(\"DatabricksViewdb4161f\")\n        elif type(__backend_agg_dfs[0]).__module__ == \"pandas.core.frame\" or isinstance(__backend_agg_dfs[0], list):\n            # pandas dataframe\n            spark.createDataFrame(__backend_agg_dfs[0]).createOrReplaceTempView(\"DatabricksViewdb4161f\")\n        else:\n            __backend_agg_dfs[0].createOrReplaceTempView(\"DatabricksViewdb4161f\")\n        #run backend agg\n        display(spark.sql(\"\"\"WITH q AS (select * from DatabricksViewdb4161f) SELECT `arrest`,SUM(`count(1)`) `column_c723644367` FROM q GROUP BY `arrest`\"\"\"))\n    else:\n        displayHTML(\"dataframe no longer exists. If you're using dataframe.display(), use display(dataframe) instead.\")\n\n\nfinally:\n    spark.sql(\"drop view if exists DatabricksViewdb4161f\")\n    display = __backend_agg_display_orig\n    del __backend_agg_display_new\n    del __backend_agg_display_orig\n    del __backend_agg_dfs\n    del __backend_agg_user_code_fn\n\n",
       "commandTitle": "Visualization 1",
       "commandType": "auto",
       "commandVersion": 0,
       "commentThread": [],
       "commentsVisible": false,
       "contentSha256Hex": null,
       "customPlotOptions": {
        "redashChart": [
         {
          "key": "type",
          "value": "CHART"
         },
         {
          "key": "options",
          "value": {
           "alignYAxesAtZero": true,
           "coefficient": 1,
           "columnConfigurationMap": {
            "x": {
             "column": "arrest",
             "id": "column_c723644366"
            },
            "y": [
             {
              "column": "count(1)",
              "id": "column_c723644367",
              "transform": "SUM"
             }
            ]
           },
           "dateTimeFormat": "DD/MM/YYYY HH:mm",
           "direction": {
            "type": "counterclockwise"
           },
           "error_y": {
            "type": "data",
            "visible": true
           },
           "globalSeriesType": "pie",
           "legend": {
            "traceorder": "normal"
           },
           "missingValuesAsZero": true,
           "numberFormat": "0,0.[00000]",
           "percentFormat": "0[.]00%",
           "series": {
            "error_y": {
             "type": "data",
             "visible": true
            },
            "stacking": null
           },
           "seriesOptions": {
            "column_c723644367": {
             "name": "count(1)",
             "type": "pie",
             "yAxis": 0
            }
           },
           "showDataLabels": true,
           "sizemode": "diameter",
           "sortX": true,
           "sortY": true,
           "swappedAxes": false,
           "textFormat": "",
           "useAggregationsUi": true,
           "valuesOptions": {},
           "version": 2,
           "xAxis": {
            "labels": {
             "enabled": true
            },
            "type": "-"
           },
           "yAxis": [
            {
             "type": "-"
            },
            {
             "opposite": true,
             "type": "-"
            }
           ]
          }
         }
        ]
       },
       "datasetPreviewNameToCmdIdMap": {},
       "diffDeletes": [],
       "diffInserts": [],
       "displayType": "redashChart",
       "error": null,
       "errorDetails": null,
       "errorSummary": null,
       "errorTraceType": null,
       "finishTime": 0,
       "globalVars": {},
       "guid": "",
       "height": "auto",
       "hideCommandCode": false,
       "hideCommandResult": false,
       "iPythonMetadata": null,
       "inputWidgets": {},
       "isLockedInExamMode": false,
       "latestUser": "a user",
       "latestUserId": null,
       "listResultMetadata": null,
       "metadata": {
        "byteLimit": 2048000,
        "implicitDf": true,
        "rowLimit": 10000
       },
       "nuid": "a216f657-a9fb-4077-8575-3324f7a8f7d8",
       "origId": 0,
       "parentHierarchy": [],
       "pivotAggregation": null,
       "pivotColumns": null,
       "position": 43.25,
       "resultDbfsErrorMessage": null,
       "resultDbfsStatus": "INLINED_IN_TREE",
       "results": null,
       "showCommandTitle": false,
       "startTime": 0,
       "state": "finished",
       "streamStates": {},
       "subcommandOptions": {
        "queryPlan": {
         "groups": [
          {
           "column": "arrest",
           "type": "column"
          }
         ],
         "selects": [
          {
           "column": "arrest",
           "type": "column"
          },
          {
           "alias": "column_c723644367",
           "args": [
            {
             "column": "count(1)",
             "type": "column"
            }
           ],
           "function": "SUM",
           "type": "function"
          }
         ]
        }
       },
       "submitTime": 0,
       "subtype": "tableResultSubCmd.visualization",
       "tableResultIndex": 0,
       "tableResultSettingsMap": {},
       "useConsistentColors": false,
       "version": "CommandV1",
       "width": "auto",
       "workflows": [],
       "xColumns": null,
       "yColumns": null
      }
     },
     "output_type": "display_data"
    }
   ],
   "source": [
    "# SparkSQL query to count the number of crimes based on whether an arrest was made or not\n",
    "spark.sql(\"\"\"\n",
    "select arrest, count(*) from clean_crime_data\n",
    "group by arrest\"\"\").display()"
   ]
  },
  {
   "cell_type": "markdown",
   "metadata": {
    "application/vnd.databricks.v1+cell": {
     "cellMetadata": {
      "byteLimit": 2048000,
      "rowLimit": 10000
     },
     "inputWidgets": {},
     "nuid": "e922feb8-5687-4d52-935b-24372a4ce74f",
     "showTitle": false,
     "tableResultSettingsMap": {},
     "title": ""
    }
   },
   "source": [
    "The donut chart shows that only 25.5% of crimes led to an arrest, while 74.5% of crimes did not result in an arrest. This suggests that a large proportion of criminal incidents remain unresolved, highlighting challenges in crime detection and law enforcement effectiveness"
   ]
  },
  {
   "cell_type": "code",
   "execution_count": 0,
   "metadata": {
    "application/vnd.databricks.v1+cell": {
     "cellMetadata": {
      "byteLimit": 2048000,
      "implicitDf": true,
      "rowLimit": 10000
     },
     "inputWidgets": {},
     "nuid": "51c1b826-67ee-4190-a99a-21c20a95698c",
     "showTitle": false,
     "tableResultSettingsMap": {},
     "title": ""
    }
   },
   "outputs": [
    {
     "output_type": "display_data",
     "data": {
      "text/html": [
       "<style scoped>\n",
       "  .table-result-container {\n",
       "    max-height: 300px;\n",
       "    overflow: auto;\n",
       "  }\n",
       "  table, th, td {\n",
       "    border: 1px solid black;\n",
       "    border-collapse: collapse;\n",
       "  }\n",
       "  th, td {\n",
       "    padding: 5px;\n",
       "  }\n",
       "  th {\n",
       "    text-align: left;\n",
       "  }\n",
       "</style><div class='table-result-container'><table class='table-result'><thead style='background-color: white'><tr><th>domestic</th><th>count(1)</th></tr></thead><tbody><tr><td>true</td><td>1389844</td></tr><tr><td>false</td><td>6635713</td></tr></tbody></table></div>"
      ]
     },
     "metadata": {
      "application/vnd.databricks.v1+output": {
       "addedWidgets": {},
       "aggData": [],
       "aggError": "",
       "aggOverflow": false,
       "aggSchema": [],
       "aggSeriesLimitReached": false,
       "aggType": "",
       "arguments": {},
       "columnCustomDisplayInfos": {},
       "data": [
        [
         true,
         1389844
        ],
        [
         false,
         6635713
        ]
       ],
       "datasetInfos": [],
       "dbfsResultPath": null,
       "isJsonSchema": true,
       "metadata": {},
       "overflow": false,
       "plotOptions": {
        "customPlotOptions": {},
        "displayType": "table",
        "pivotAggregation": null,
        "pivotColumns": null,
        "xColumns": null,
        "yColumns": null
       },
       "removedWidgets": [],
       "schema": [
        {
         "metadata": "{}",
         "name": "domestic",
         "type": "\"boolean\""
        },
        {
         "metadata": "{\"__autoGeneratedAlias\":\"true\"}",
         "name": "count(1)",
         "type": "\"long\""
        }
       ],
       "type": "table"
      }
     },
     "output_type": "display_data"
    },
    {
     "output_type": "display_data",
     "data": {
      "text/plain": [
       "Databricks visualization. Run in Databricks to view."
      ]
     },
     "metadata": {
      "application/vnd.databricks.v1.subcommand+json": {
       "baseErrorDetails": null,
       "bindings": {},
       "collapsed": false,
       "command": "%python\n__backend_agg_display_orig = display\n__backend_agg_dfs = []\ndef __backend_agg_display_new(df):\n    __backend_agg_df_modules = [\"pandas.core.frame\", \"databricks.koalas.frame\", \"pyspark.sql.dataframe\", \"pyspark.pandas.frame\", \"pyspark.sql.connect.dataframe\"]\n    if (type(df).__module__ in __backend_agg_df_modules and type(df).__name__ == 'DataFrame') or isinstance(df, list):\n        __backend_agg_dfs.append(df)\n\ndisplay = __backend_agg_display_new\n\ndef __backend_agg_user_code_fn():\n    import base64\n    exec(base64.standard_b64decode(\"IyBTcGFya1NRTCBxdWVyeSB0byBjb3VudCB0aGUgbnVtYmVyIG9mIGNyaW1lcyBiYXNlZCBvbiB3aGV0aGVyIHRoZSBpbmNpZGVudCB3YXMgZG9tZXN0aWMtcmVsYXRlZCBvciBub3QKc3Bhcmsuc3FsKCIiIgpzZWxlY3QgZG9tZXN0aWMsIGNvdW50KCopIGZyb20gY2xlYW5fY3JpbWVfZGF0YQpncm91cCBieSBkb21lc3RpYyIiIikuZGlzcGxheSgp\").decode())\n\ntry:\n    # run user code\n    __backend_agg_user_code_fn()\n\n    #reset display function\n    display = __backend_agg_display_orig\n\n    if len(__backend_agg_dfs) > 0:\n        # create a temp view\n        if type(__backend_agg_dfs[0]).__module__ == \"databricks.koalas.frame\":\n            # koalas dataframe\n            __backend_agg_dfs[0].to_spark().createOrReplaceTempView(\"DatabricksView5c570f2\")\n        elif type(__backend_agg_dfs[0]).__module__ == \"pandas.core.frame\" or isinstance(__backend_agg_dfs[0], list):\n            # pandas dataframe\n            spark.createDataFrame(__backend_agg_dfs[0]).createOrReplaceTempView(\"DatabricksView5c570f2\")\n        else:\n            __backend_agg_dfs[0].createOrReplaceTempView(\"DatabricksView5c570f2\")\n        #run backend agg\n        display(spark.sql(\"\"\"WITH q AS (select * from DatabricksView5c570f2) SELECT `domestic`,SUM(`count(1)`) `column_c723644356` FROM q GROUP BY `domestic`\"\"\"))\n    else:\n        displayHTML(\"dataframe no longer exists. If you're using dataframe.display(), use display(dataframe) instead.\")\n\n\nfinally:\n    spark.sql(\"drop view if exists DatabricksView5c570f2\")\n    display = __backend_agg_display_orig\n    del __backend_agg_display_new\n    del __backend_agg_display_orig\n    del __backend_agg_dfs\n    del __backend_agg_user_code_fn\n\n",
       "commandTitle": "Visualization 1",
       "commandType": "auto",
       "commandVersion": 0,
       "commentThread": [],
       "commentsVisible": false,
       "contentSha256Hex": null,
       "customPlotOptions": {
        "redashChart": [
         {
          "key": "type",
          "value": "CHART"
         },
         {
          "key": "options",
          "value": {
           "alignYAxesAtZero": true,
           "coefficient": 1,
           "columnConfigurationMap": {
            "x": {
             "column": "domestic",
             "id": "column_c723644355"
            },
            "y": [
             {
              "column": "count(1)",
              "id": "column_c723644356",
              "transform": "SUM"
             }
            ]
           },
           "dateTimeFormat": "DD/MM/YYYY HH:mm",
           "direction": {
            "type": "counterclockwise"
           },
           "error_y": {
            "type": "data",
            "visible": true
           },
           "globalSeriesType": "pie",
           "legend": {
            "traceorder": "normal"
           },
           "missingValuesAsZero": true,
           "numberFormat": "0,0.[00000]",
           "percentFormat": "0[.]00%",
           "series": {
            "error_y": {
             "type": "data",
             "visible": true
            },
            "stacking": null
           },
           "seriesOptions": {
            "column_c723644356": {
             "name": "count(1)",
             "type": "pie",
             "yAxis": 0
            }
           },
           "showDataLabels": true,
           "sizemode": "diameter",
           "sortX": true,
           "sortY": true,
           "swappedAxes": false,
           "textFormat": "",
           "useAggregationsUi": true,
           "valuesOptions": {},
           "version": 2,
           "xAxis": {
            "labels": {
             "enabled": true
            },
            "type": "-"
           },
           "yAxis": [
            {
             "type": "-"
            },
            {
             "opposite": true,
             "type": "-"
            }
           ]
          }
         }
        ]
       },
       "datasetPreviewNameToCmdIdMap": {},
       "diffDeletes": [],
       "diffInserts": [],
       "displayType": "redashChart",
       "error": null,
       "errorDetails": null,
       "errorSummary": null,
       "errorTraceType": null,
       "finishTime": 0,
       "globalVars": {},
       "guid": "",
       "height": "auto",
       "hideCommandCode": false,
       "hideCommandResult": false,
       "iPythonMetadata": null,
       "inputWidgets": {},
       "isLockedInExamMode": false,
       "latestUser": "a user",
       "latestUserId": null,
       "listResultMetadata": null,
       "metadata": {
        "byteLimit": 2048000,
        "implicitDf": true,
        "rowLimit": 10000
       },
       "nuid": "b9dfcebb-3282-4704-9ff6-dad744c3f055",
       "origId": 0,
       "parentHierarchy": [],
       "pivotAggregation": null,
       "pivotColumns": null,
       "position": 43.0,
       "resultDbfsErrorMessage": null,
       "resultDbfsStatus": "INLINED_IN_TREE",
       "results": null,
       "showCommandTitle": false,
       "startTime": 0,
       "state": "finished",
       "streamStates": {},
       "subcommandOptions": {
        "queryPlan": {
         "groups": [
          {
           "column": "domestic",
           "type": "column"
          }
         ],
         "selects": [
          {
           "column": "domestic",
           "type": "column"
          },
          {
           "alias": "column_c723644356",
           "args": [
            {
             "column": "count(1)",
             "type": "column"
            }
           ],
           "function": "SUM",
           "type": "function"
          }
         ]
        }
       },
       "submitTime": 0,
       "subtype": "tableResultSubCmd.visualization",
       "tableResultIndex": 0,
       "tableResultSettingsMap": {},
       "useConsistentColors": false,
       "version": "CommandV1",
       "width": "auto",
       "workflows": [],
       "xColumns": null,
       "yColumns": null
      }
     },
     "output_type": "display_data"
    }
   ],
   "source": [
    "# SparkSQL query to count the number of crimes based on whether the incident was domestic-related or not\n",
    "spark.sql(\"\"\"\n",
    "select domestic, count(*) from clean_crime_data\n",
    "group by domestic\"\"\").display()"
   ]
  },
  {
   "cell_type": "markdown",
   "metadata": {
    "application/vnd.databricks.v1+cell": {
     "cellMetadata": {
      "byteLimit": 2048000,
      "rowLimit": 10000
     },
     "inputWidgets": {},
     "nuid": "375d73a2-de92-4a52-b6f4-14b3e3061ff2",
     "showTitle": false,
     "tableResultSettingsMap": {},
     "title": ""
    }
   },
   "source": [
    "The donut chart shows that 82.7% of crimes are non-domestic, while 17.3% are domestic-related incidents. This indicates that the majority of crimes reported occur outside of domestic contexts, though domestic incidents still represent a significant share of overall crime."
   ]
  },
  {
   "cell_type": "markdown",
   "metadata": {
    "application/vnd.databricks.v1+cell": {
     "cellMetadata": {
      "byteLimit": 2048000,
      "rowLimit": 10000
     },
     "inputWidgets": {},
     "nuid": "78f6a7f8-9442-4cfa-a10a-b0c59c91b844",
     "showTitle": false,
     "tableResultSettingsMap": {},
     "title": ""
    }
   },
   "source": [
    "## **Feature** **Engineering**"
   ]
  },
  {
   "cell_type": "code",
   "execution_count": 0,
   "metadata": {
    "application/vnd.databricks.v1+cell": {
     "cellMetadata": {
      "byteLimit": 2048000,
      "rowLimit": 10000
     },
     "inputWidgets": {},
     "nuid": "d2876d47-a009-4116-9c6e-1cc8e7f2a239",
     "showTitle": false,
     "tableResultSettingsMap": {},
     "title": ""
    }
   },
   "outputs": [],
   "source": [
    "# Importing necessary packages for feature analysis\n",
    "from pyspark.sql.functions import hour, dayofweek, month, col\n",
    "from pyspark.ml.feature import StringIndexer, VectorAssembler\n",
    "from pyspark.ml.stat import Correlation, ChiSquareTest\n",
    "\n",
    "# Adding time-based features to a new DataFrame by segmenting the Date column\n",
    "df_model = df.withColumn(\"Hour\", hour(\"Date\")) \\\n",
    "             .withColumn(\"DayOfWeek\", dayofweek(\"Date\")) \\\n",
    "             .withColumn(\"Month\", month(\"Date\"))"
   ]
  },
  {
   "cell_type": "code",
   "execution_count": 0,
   "metadata": {
    "application/vnd.databricks.v1+cell": {
     "cellMetadata": {
      "byteLimit": 2048000,
      "rowLimit": 10000
     },
     "inputWidgets": {},
     "nuid": "3d193950-6a13-4273-bf12-d344168d9e15",
     "showTitle": false,
     "tableResultSettingsMap": {},
     "title": ""
    }
   },
   "outputs": [],
   "source": [
    "# Selecting only the necessary columns for the ML model\n",
    "selected_cols = [\"Primary Type\", \"Location Description\", \"Community Area\", \"Ward\", \"Hour\", \"DayOfWeek\", \"Month\", \"Domestic\"]\n",
    "df_model = df_model.select(*selected_cols)"
   ]
  },
  {
   "cell_type": "code",
   "execution_count": 0,
   "metadata": {
    "application/vnd.databricks.v1+cell": {
     "cellMetadata": {
      "byteLimit": 2048000,
      "rowLimit": 10000
     },
     "inputWidgets": {},
     "nuid": "2474540b-3664-44bf-a0db-64bc71cdb16e",
     "showTitle": false,
     "tableResultSettingsMap": {},
     "title": ""
    }
   },
   "outputs": [],
   "source": [
    "# Creating numerical indexes for categorical columns to prepare the data for the ML model \n",
    "index_columns = [\"Primary Type\", \"Location Description\", \"Community Area\", \"Ward\"]\n",
    "for c_name in index_columns:\n",
    "    index = StringIndexer(inputCol=c_name, outputCol=c_name.replace(\" \", \"\") + \"_index\")\n",
    "    df_model = index.fit(df_model).transform(df_model)\n"
   ]
  },
  {
   "cell_type": "code",
   "execution_count": 0,
   "metadata": {
    "application/vnd.databricks.v1+cell": {
     "cellMetadata": {
      "byteLimit": 2048000,
      "rowLimit": 10000
     },
     "inputWidgets": {},
     "nuid": "fab568b6-c177-48b3-a607-0043c0045a34",
     "showTitle": false,
     "tableResultSettingsMap": {},
     "title": ""
    }
   },
   "outputs": [],
   "source": [
    "# Converting 'Domestic' column from boolean to string and labelling it to use it as target variable for the ML model\n",
    "df_model = df_model.withColumn(\"Domestic_str\", col(\"Domestic\").cast(\"string\"))\n",
    "target_index = StringIndexer(inputCol=\"Domestic_str\", outputCol=\"label\")\n",
    "df_model = target_index.fit(df_model).transform(df_model)\n"
   ]
  },
  {
   "cell_type": "code",
   "execution_count": 0,
   "metadata": {
    "application/vnd.databricks.v1+cell": {
     "cellMetadata": {
      "byteLimit": 2048000,
      "rowLimit": 10000
     },
     "inputWidgets": {},
     "nuid": "7d7ae8bc-0206-434a-98af-c972eb98d4ef",
     "showTitle": false,
     "tableResultSettingsMap": {},
     "title": ""
    }
   },
   "outputs": [],
   "source": [
    "# Using VectorAssembler to group all the required columns in one single vector for calculating the correlation\n",
    "corr_cols = [\"Hour\", \"DayOfWeek\", \"Month\"]\n",
    "corr_assemble = VectorAssembler(inputCols=corr_cols, outputCol=\"features_corr\")\n",
    "corr_df = corr_assemble.transform(df_model)\n"
   ]
  },
  {
   "cell_type": "code",
   "execution_count": 0,
   "metadata": {
    "application/vnd.databricks.v1+cell": {
     "cellMetadata": {
      "byteLimit": 2048000,
      "rowLimit": 10000
     },
     "inputWidgets": {},
     "nuid": "febd6ff6-33eb-4fc1-941a-ca6f8c0c6a6d",
     "showTitle": false,
     "tableResultSettingsMap": {},
     "title": ""
    }
   },
   "outputs": [
    {
     "output_type": "stream",
     "name": "stdout",
     "output_type": "stream",
     "text": [
      "Correlation Matrix :\n [[ 1.00000000e+00  1.55647099e-02 -3.48408119e-04]\n [ 1.55647099e-02  1.00000000e+00 -2.57195026e-03]\n [-3.48408119e-04 -2.57195026e-03  1.00000000e+00]]\n"
     ]
    }
   ],
   "source": [
    "# Finding correlation matrix between numerical input columns using .corr() method\n",
    "correlation = Correlation.corr(corr_df, \"features_corr\", \"pearson\").head()[0].toArray()\n",
    "print(\"Correlation Matrix :\\n\", correlation)"
   ]
  },
  {
   "cell_type": "code",
   "execution_count": 0,
   "metadata": {
    "application/vnd.databricks.v1+cell": {
     "cellMetadata": {
      "byteLimit": 2048000,
      "rowLimit": 10000
     },
     "inputWidgets": {},
     "nuid": "76af2b0a-3784-48a3-b653-210da83bd79f",
     "showTitle": false,
     "tableResultSettingsMap": {},
     "title": ""
    }
   },
   "outputs": [
    {
     "output_type": "stream",
     "name": "stdout",
     "output_type": "stream",
     "text": [
      "Chi-Square Test Results:\np-values: [0.0,0.0,0.0,0.0]\nstatistics: [2375594.0839359504,1483082.7807249394,190255.6078657329,177718.9112082372]\ndegrees of freedom: [35, 217, 78, 50]\n"
     ]
    }
   ],
   "source": [
    "# Using chi-square test to check the dependency of categorical input columns\n",
    "chi_features = [col.replace(\" \", \"\") + \"_index\" for col in index_columns]\n",
    "chi_assembler = VectorAssembler(inputCols=chi_features, outputCol=\"features_chi\")\n",
    "chi_df = chi_assembler.transform(df_model)\n",
    "chi_result = ChiSquareTest.test(chi_df, \"features_chi\", \"label\").head()\n",
    "\n",
    "print(\"Chi-Square Test Results:\")\n",
    "print(\"p-values:\", chi_result.pValues)\n",
    "print(\"statistics:\", chi_result.statistics)\n",
    "print(\"degrees of freedom:\", chi_result.degreesOfFreedom)"
   ]
  },
  {
   "cell_type": "code",
   "execution_count": 0,
   "metadata": {
    "application/vnd.databricks.v1+cell": {
     "cellMetadata": {
      "byteLimit": 2048000,
      "rowLimit": 10000
     },
     "inputWidgets": {},
     "nuid": "903014a7-8fa5-4ea1-8fb9-dae821666ef3",
     "showTitle": false,
     "tableResultSettingsMap": {},
     "title": ""
    }
   },
   "outputs": [],
   "source": [
    "# Creating a temporary view of the original DataFrame\n",
    "df.createOrReplaceTempView(\"check\")"
   ]
  },
  {
   "cell_type": "code",
   "execution_count": 0,
   "metadata": {
    "application/vnd.databricks.v1+cell": {
     "cellMetadata": {
      "byteLimit": 2048000,
      "implicitDf": true,
      "rowLimit": 10000
     },
     "inputWidgets": {},
     "nuid": "cac014dd-484e-400f-b89b-6b857e95cf27",
     "showTitle": false,
     "tableResultSettingsMap": {},
     "title": ""
    }
   },
   "outputs": [
    {
     "output_type": "display_data",
     "data": {
      "text/html": [
       "<style scoped>\n",
       "  .table-result-container {\n",
       "    max-height: 300px;\n",
       "    overflow: auto;\n",
       "  }\n",
       "  table, th, td {\n",
       "    border: 1px solid black;\n",
       "    border-collapse: collapse;\n",
       "  }\n",
       "  th, td {\n",
       "    padding: 5px;\n",
       "  }\n",
       "  th {\n",
       "    text-align: left;\n",
       "  }\n",
       "</style><div class='table-result-container'><table class='table-result'><thead style='background-color: white'><tr><th>ID</th><th>Case Number</th><th>Date</th><th>Block</th><th>IUCR</th><th>Primary Type</th><th>Description</th><th>Location Description</th><th>Arrest</th><th>Domestic</th><th>Beat</th><th>District</th><th>Ward</th><th>Community Area</th><th>FBI Code</th><th>X Coordinate</th><th>Y Coordinate</th><th>Year</th><th>Updated On</th><th>Latitude</th><th>Longitude</th></tr></thead><tbody><tr><td>21408</td><td>A417216</td><td>2010-09-06T07:00:00.000+0000</td><td>039XX S VINCENNES AVE</td><td>0110</td><td>HOMICIDE</td><td>FIRST DEGREE MURDER</td><td>AUTO</td><td>true</td><td>false</td><td>214</td><td>2</td><td>4</td><td>38</td><td>01A</td><td>1180666</td><td>1879108</td><td>2010</td><td>09/19/2022 03:41:05 PM</td><td>41.823529117</td><td>-87.612707977</td></tr><tr><td>1900</td><td>C153276</td><td>2002-12-05T13:50:00.000+0000</td><td>055XX W RICE ST</td><td>0110</td><td>HOMICIDE</td><td>FIRST DEGREE MURDER</td><td>STREET</td><td>true</td><td>false</td><td>1524</td><td>15</td><td>37</td><td>25</td><td>01A</td><td>1139235</td><td>1905124</td><td>2002</td><td>09/19/2022 03:41:05 PM</td><td>41.895773675</td><td>-87.764072031</td></tr><tr><td>1956</td><td>D212672</td><td>2002-12-31T09:30:00.000+0000</td><td>061XX S DREXEL AVE</td><td>0110</td><td>HOMICIDE</td><td>FIRST DEGREE MURDER</td><td>STREET</td><td>true</td><td>false</td><td>313</td><td>3</td><td>20</td><td>42</td><td>01A</td><td>1183061</td><td>1864566</td><td>2002</td><td>09/19/2022 03:41:05 PM</td><td>41.783569249</td><td>-87.604374166</td></tr><tr><td>1375032</td><td>F072578</td><td>2001-02-05T16:02:00.000+0000</td><td>083XX S BAKER AV</td><td>0460</td><td>BATTERY</td><td>SIMPLE</td><td>STREET</td><td>false</td><td>false</td><td>424</td><td>4</td><td>-1</td><td>-1</td><td>08B</td><td>1198542</td><td>1849538</td><td>2001</td><td>08/17/2015 03:03:40 PM</td><td>41.74195729</td><td>-87.548119531</td></tr><tr><td>1391053</td><td>F104558</td><td>2001-02-20T23:15:00.000+0000</td><td>031XX S SACRAMENTO AV</td><td>0460</td><td>BATTERY</td><td>SIMPLE</td><td>ALLEY</td><td>false</td><td>false</td><td>1033</td><td>10</td><td>-1</td><td>-1</td><td>08B</td><td>1156817</td><td>1883913</td><td>2001</td><td>08/17/2015 03:03:40 PM</td><td>41.837230208</td><td>-87.700071474</td></tr></tbody></table></div>"
      ]
     },
     "metadata": {
      "application/vnd.databricks.v1+output": {
       "addedWidgets": {},
       "aggData": [],
       "aggError": "",
       "aggOverflow": false,
       "aggSchema": [],
       "aggSeriesLimitReached": false,
       "aggType": "",
       "arguments": {},
       "columnCustomDisplayInfos": {},
       "data": [
        [
         21408,
         "A417216",
         "2010-09-06T07:00:00.000+0000",
         "039XX S VINCENNES AVE",
         "0110",
         "HOMICIDE",
         "FIRST DEGREE MURDER",
         "AUTO",
         true,
         false,
         214,
         2,
         4,
         38,
         "01A",
         1180666,
         1879108,
         2010,
         "09/19/2022 03:41:05 PM",
         41.823529117,
         -87.612707977
        ],
        [
         1900,
         "C153276",
         "2002-12-05T13:50:00.000+0000",
         "055XX W RICE ST",
         "0110",
         "HOMICIDE",
         "FIRST DEGREE MURDER",
         "STREET",
         true,
         false,
         1524,
         15,
         37,
         25,
         "01A",
         1139235,
         1905124,
         2002,
         "09/19/2022 03:41:05 PM",
         41.895773675,
         -87.764072031
        ],
        [
         1956,
         "D212672",
         "2002-12-31T09:30:00.000+0000",
         "061XX S DREXEL AVE",
         "0110",
         "HOMICIDE",
         "FIRST DEGREE MURDER",
         "STREET",
         true,
         false,
         313,
         3,
         20,
         42,
         "01A",
         1183061,
         1864566,
         2002,
         "09/19/2022 03:41:05 PM",
         41.783569249,
         -87.604374166
        ],
        [
         1375032,
         "F072578",
         "2001-02-05T16:02:00.000+0000",
         "083XX S BAKER AV",
         "0460",
         "BATTERY",
         "SIMPLE",
         "STREET",
         false,
         false,
         424,
         4,
         -1,
         -1,
         "08B",
         1198542,
         1849538,
         2001,
         "08/17/2015 03:03:40 PM",
         41.74195729,
         -87.548119531
        ],
        [
         1391053,
         "F104558",
         "2001-02-20T23:15:00.000+0000",
         "031XX S SACRAMENTO AV",
         "0460",
         "BATTERY",
         "SIMPLE",
         "ALLEY",
         false,
         false,
         1033,
         10,
         -1,
         -1,
         "08B",
         1156817,
         1883913,
         2001,
         "08/17/2015 03:03:40 PM",
         41.837230208,
         -87.700071474
        ]
       ],
       "datasetInfos": [],
       "dbfsResultPath": null,
       "isJsonSchema": true,
       "metadata": {},
       "overflow": false,
       "plotOptions": {
        "customPlotOptions": {},
        "displayType": "table",
        "pivotAggregation": null,
        "pivotColumns": null,
        "xColumns": null,
        "yColumns": null
       },
       "removedWidgets": [],
       "schema": [
        {
         "metadata": "{}",
         "name": "ID",
         "type": "\"integer\""
        },
        {
         "metadata": "{}",
         "name": "Case Number",
         "type": "\"string\""
        },
        {
         "metadata": "{}",
         "name": "Date",
         "type": "\"timestamp\""
        },
        {
         "metadata": "{}",
         "name": "Block",
         "type": "\"string\""
        },
        {
         "metadata": "{}",
         "name": "IUCR",
         "type": "\"string\""
        },
        {
         "metadata": "{}",
         "name": "Primary Type",
         "type": "\"string\""
        },
        {
         "metadata": "{}",
         "name": "Description",
         "type": "\"string\""
        },
        {
         "metadata": "{}",
         "name": "Location Description",
         "type": "\"string\""
        },
        {
         "metadata": "{}",
         "name": "Arrest",
         "type": "\"boolean\""
        },
        {
         "metadata": "{}",
         "name": "Domestic",
         "type": "\"boolean\""
        },
        {
         "metadata": "{}",
         "name": "Beat",
         "type": "\"integer\""
        },
        {
         "metadata": "{}",
         "name": "District",
         "type": "\"integer\""
        },
        {
         "metadata": "{}",
         "name": "Ward",
         "type": "\"integer\""
        },
        {
         "metadata": "{}",
         "name": "Community Area",
         "type": "\"integer\""
        },
        {
         "metadata": "{}",
         "name": "FBI Code",
         "type": "\"string\""
        },
        {
         "metadata": "{}",
         "name": "X Coordinate",
         "type": "\"integer\""
        },
        {
         "metadata": "{}",
         "name": "Y Coordinate",
         "type": "\"integer\""
        },
        {
         "metadata": "{}",
         "name": "Year",
         "type": "\"integer\""
        },
        {
         "metadata": "{}",
         "name": "Updated On",
         "type": "\"string\""
        },
        {
         "metadata": "{}",
         "name": "Latitude",
         "type": "\"double\""
        },
        {
         "metadata": "{}",
         "name": "Longitude",
         "type": "\"double\""
        }
       ],
       "type": "table"
      }
     },
     "output_type": "display_data"
    }
   ],
   "source": [
    "# SparkSQL query for verifying the original DataFrame\n",
    "spark.sql(\"\"\"select * from check limit 5\"\"\").display()"
   ]
  },
  {
   "cell_type": "code",
   "execution_count": 0,
   "metadata": {
    "application/vnd.databricks.v1+cell": {
     "cellMetadata": {
      "byteLimit": 2048000,
      "rowLimit": 10000
     },
     "inputWidgets": {},
     "nuid": "dc7bca1d-24f2-401a-87c6-f31068c54025",
     "showTitle": false,
     "tableResultSettingsMap": {},
     "title": ""
    }
   },
   "outputs": [],
   "source": [
    "# Creating a temporary view of the dataframe [df_model], which has undergone feature transformation\n",
    "df_model.createOrReplaceTempView(\"modeldf_check\")"
   ]
  },
  {
   "cell_type": "code",
   "execution_count": 0,
   "metadata": {
    "application/vnd.databricks.v1+cell": {
     "cellMetadata": {
      "byteLimit": 2048000,
      "implicitDf": true,
      "rowLimit": 10000
     },
     "inputWidgets": {},
     "nuid": "f92fe442-ae68-4a4b-a5c1-9d3f574b8c8f",
     "showTitle": false,
     "tableResultSettingsMap": {},
     "title": ""
    }
   },
   "outputs": [
    {
     "output_type": "display_data",
     "data": {
      "text/html": [
       "<style scoped>\n",
       "  .table-result-container {\n",
       "    max-height: 300px;\n",
       "    overflow: auto;\n",
       "  }\n",
       "  table, th, td {\n",
       "    border: 1px solid black;\n",
       "    border-collapse: collapse;\n",
       "  }\n",
       "  th, td {\n",
       "    padding: 5px;\n",
       "  }\n",
       "  th {\n",
       "    text-align: left;\n",
       "  }\n",
       "</style><div class='table-result-container'><table class='table-result'><thead style='background-color: white'><tr><th>Primary Type</th><th>Location Description</th><th>Community Area</th><th>Ward</th><th>Hour</th><th>DayOfWeek</th><th>Month</th><th>Domestic</th><th>PrimaryType_index</th><th>LocationDescription_index</th><th>CommunityArea_index</th><th>Ward_index</th><th>Domestic_str</th><th>label</th></tr></thead><tbody><tr><td>HOMICIDE</td><td>AUTO</td><td>38</td><td>4</td><td>7</td><td>2</td><td>9</td><td>false</td><td>21.0</td><td>90.0</td><td>28.0</td><td>20.0</td><td>false</td><td>0.0</td></tr><tr><td>HOMICIDE</td><td>STREET</td><td>25</td><td>37</td><td>13</td><td>5</td><td>12</td><td>false</td><td>21.0</td><td>0.0</td><td>1.0</td><td>15.0</td><td>false</td><td>0.0</td></tr><tr><td>HOMICIDE</td><td>STREET</td><td>42</td><td>20</td><td>9</td><td>3</td><td>12</td><td>false</td><td>21.0</td><td>0.0</td><td>25.0</td><td>8.0</td><td>false</td><td>0.0</td></tr><tr><td>BATTERY</td><td>STREET</td><td>-1</td><td>-1</td><td>16</td><td>2</td><td>2</td><td>false</td><td>1.0</td><td>0.0</td><td>0.0</td><td>0.0</td><td>false</td><td>0.0</td></tr><tr><td>BATTERY</td><td>ALLEY</td><td>-1</td><td>-1</td><td>23</td><td>3</td><td>2</td><td>false</td><td>1.0</td><td>6.0</td><td>0.0</td><td>0.0</td><td>false</td><td>0.0</td></tr></tbody></table></div>"
      ]
     },
     "metadata": {
      "application/vnd.databricks.v1+output": {
       "addedWidgets": {},
       "aggData": [],
       "aggError": "",
       "aggOverflow": false,
       "aggSchema": [],
       "aggSeriesLimitReached": false,
       "aggType": "",
       "arguments": {},
       "columnCustomDisplayInfos": {},
       "data": [
        [
         "HOMICIDE",
         "AUTO",
         38,
         4,
         7,
         2,
         9,
         false,
         21.0,
         90.0,
         28.0,
         20.0,
         "false",
         0.0
        ],
        [
         "HOMICIDE",
         "STREET",
         25,
         37,
         13,
         5,
         12,
         false,
         21.0,
         0.0,
         1.0,
         15.0,
         "false",
         0.0
        ],
        [
         "HOMICIDE",
         "STREET",
         42,
         20,
         9,
         3,
         12,
         false,
         21.0,
         0.0,
         25.0,
         8.0,
         "false",
         0.0
        ],
        [
         "BATTERY",
         "STREET",
         -1,
         -1,
         16,
         2,
         2,
         false,
         1.0,
         0.0,
         0.0,
         0.0,
         "false",
         0.0
        ],
        [
         "BATTERY",
         "ALLEY",
         -1,
         -1,
         23,
         3,
         2,
         false,
         1.0,
         6.0,
         0.0,
         0.0,
         "false",
         0.0
        ]
       ],
       "datasetInfos": [],
       "dbfsResultPath": null,
       "isJsonSchema": true,
       "metadata": {},
       "overflow": false,
       "plotOptions": {
        "customPlotOptions": {},
        "displayType": "table",
        "pivotAggregation": null,
        "pivotColumns": null,
        "xColumns": null,
        "yColumns": null
       },
       "removedWidgets": [],
       "schema": [
        {
         "metadata": "{}",
         "name": "Primary Type",
         "type": "\"string\""
        },
        {
         "metadata": "{}",
         "name": "Location Description",
         "type": "\"string\""
        },
        {
         "metadata": "{}",
         "name": "Community Area",
         "type": "\"integer\""
        },
        {
         "metadata": "{}",
         "name": "Ward",
         "type": "\"integer\""
        },
        {
         "metadata": "{}",
         "name": "Hour",
         "type": "\"integer\""
        },
        {
         "metadata": "{}",
         "name": "DayOfWeek",
         "type": "\"integer\""
        },
        {
         "metadata": "{}",
         "name": "Month",
         "type": "\"integer\""
        },
        {
         "metadata": "{}",
         "name": "Domestic",
         "type": "\"boolean\""
        },
        {
         "metadata": "{\"ml_attr\":{\"vals\":[\"THEFT\",\"BATTERY\",\"CRIMINAL DAMAGE\",\"NARCOTICS\",\"ASSAULT\",\"OTHER OFFENSE\",\"BURGLARY\",\"MOTOR VEHICLE THEFT\",\"DECEPTIVE PRACTICE\",\"ROBBERY\",\"CRIMINAL TRESPASS\",\"WEAPONS VIOLATION\",\"PROSTITUTION\",\"OFFENSE INVOLVING CHILDREN\",\"PUBLIC PEACE VIOLATION\",\"SEX OFFENSE\",\"CRIM SEXUAL ASSAULT\",\"INTERFERENCE WITH PUBLIC OFFICER\",\"LIQUOR LAW VIOLATION\",\"GAMBLING\",\"ARSON\",\"HOMICIDE\",\"CRIMINAL SEXUAL ASSAULT\",\"KIDNAPPING\",\"STALKING\",\"INTIMIDATION\",\"CONCEALED CARRY LICENSE VIOLATION\",\"OBSCENITY\",\"PUBLIC INDECENCY\",\"NON-CRIMINAL\",\"OTHER NARCOTIC VIOLATION\",\"HUMAN TRAFFICKING\",\"NON - CRIMINAL\",\"RITUALISM\",\"NON-CRIMINAL (SUBJECT SPECIFIED)\",\"DOMESTIC VIOLENCE\"],\"type\":\"nominal\",\"name\":\"PrimaryType_index\"}}",
         "name": "PrimaryType_index",
         "type": "\"double\""
        },
        {
         "metadata": "{\"ml_attr\":{\"vals\":[\"STREET\",\"RESIDENCE\",\"APARTMENT\",\"SIDEWALK\",\"OTHER\",\"PARKING LOT/GARAGE(NON.RESID.)\",\"ALLEY\",\"SMALL RETAIL STORE\",\"SCHOOL, PUBLIC, BUILDING\",\"RESTAURANT\",\"RESIDENCE-GARAGE\",\"VEHICLE NON-COMMERCIAL\",\"RESIDENCE PORCH/HALLWAY\",\"DEPARTMENT STORE\",\"GROCERY FOOD STORE\",\"GAS STATION\",\"RESIDENTIAL YARD (FRONT/BACK)\",\"COMMERCIAL / BUSINESS OFFICE\",\"PARK PROPERTY\",\"CHA PARKING LOT/GROUNDS\",\"BAR OR TAVERN\",\"PARKING LOT / GARAGE (NON RESIDENTIAL)\",\"CHA APARTMENT\",\"CTA PLATFORM\",\"DRUG STORE\",\"BANK\",\"CTA TRAIN\",\"SCHOOL, PUBLIC, GROUNDS\",\"HOTEL/MOTEL\",\"CTA BUS\",\"CONVENIENCE STORE\",\"CHA HALLWAY/STAIRWELL/ELEVATOR\",\"VACANT LOT/LAND\",\"DRIVEWAY - RESIDENTIAL\",\"TAVERN/LIQUOR STORE\",\"HOSPITAL BUILDING/GROUNDS\",\"OTHER (SPECIFY)\",\"POLICE FACILITY/VEH PARKING LOT\",\"AIRPORT/AIRCRAFT\",\"RESIDENCE - PORCH / HALLWAY\",\"CHURCH/SYNAGOGUE/PLACE OF WORSHIP\",\"GOVERNMENT BUILDING/PROPERTY\",\"CONSTRUCTION SITE\",\"SCHOOL, PRIVATE, BUILDING\",\"RESIDENCE - YARD (FRONT / BACK)\",\"NURSING HOME/RETIREMENT HOME\",\"RESIDENCE - GARAGE\",\"ABANDONED BUILDING\",\"CURRENCY EXCHANGE\",\"WAREHOUSE\",\"ATHLETIC CLUB\",\"CTA GARAGE / OTHER PROPERTY\",\"UNKNOWN\",\"BARBERSHOP\",\"CTA BUS STOP\",\"ATM (AUTOMATIC TELLER MACHINE)\",\"TAXICAB\",\"CTA STATION\",\"MEDICAL/DENTAL OFFICE\",\"LIBRARY\",\"SCHOOL - PUBLIC BUILDING\",\"FACTORY/MANUFACTURING BUILDING\",\"HOSPITAL BUILDING / GROUNDS\",\"HOTEL / MOTEL\",\"SCHOOL - PUBLIC GROUNDS\",\"OTHER RAILROAD PROP / TRAIN DEPOT\",\"COLLEGE/UNIVERSITY GROUNDS\",\"VEHICLE-COMMERCIAL\",\"AIRPORT TERMINAL UPPER LEVEL - SECURE AREA\",\"SPORTS ARENA/STADIUM\",\"CLEANING STORE\",\"SCHOOL, PRIVATE, GROUNDS\",\"DAY CARE CENTER\",\"CAR WASH\",\"OTHER COMMERCIAL TRANSPORTATION\",\"VACANT LOT / LAND\",\"NURSING / RETIREMENT HOME\",\"POLICE FACILITY / VEHICLE PARKING LOT\",\"MOVIE HOUSE/THEATER\",\"TAVERN / LIQUOR STORE\",\"AIRPORT TERMINAL LOWER LEVEL - NON-SECURE AREA\",\"APPLIANCE STORE\",\"CHA PARKING LOT / GROUNDS\",\"GOVERNMENT BUILDING / PROPERTY\",\"CHURCH / SYNAGOGUE / PLACE OF WORSHIP\",\"AIRPORT PARKING LOT\",\"AUTO / BOAT / RV DEALERSHIP\",\"MEDICAL / DENTAL OFFICE\",\"AIRPORT BUILDING NON-TERMINAL - NON-SECURE AREA\",\"COLLEGE/UNIVERSITY RESIDENCE HALL\",\"AUTO\",\"SCHOOL - PRIVATE GROUNDS\",\"FIRE STATION\",\"JAIL / LOCK-UP FACILITY\",\"AIRPORT TERMINAL UPPER LEVEL - NON-SECURE AREA\",\"AIRPORT EXTERIOR - NON-SECURE AREA\",\"VEHICLE - COMMERCIAL\",\"LAKEFRONT/WATERFRONT/RIVERBANK\",\"AIRPORT TERMINAL LOWER LEVEL - SECURE AREA\",\"COIN OPERATED MACHINE\",\"FEDERAL BUILDING\",\"SCHOOL - PRIVATE BUILDING\",\"HIGHWAY/EXPRESSWAY\",\"AIRPORT VENDING ESTABLISHMENT\",\"POOL ROOM\",\"DELIVERY TRUCK\",\"AIRCRAFT\",\"ANIMAL HOSPITAL\",\"AIRPORT BUILDING NON-TERMINAL - SECURE AREA\",\"CHA HALLWAY / STAIRWELL / ELEVATOR\",\"BOWLING ALLEY\",\"CTA PARKING LOT / GARAGE / OTHER PROPERTY\",\"PAWN SHOP\",\"BOAT/WATERCRAFT\",\"FACTORY / MANUFACTURING BUILDING\",\"OTHER RAILROAD PROPERTY / TRAIN DEPOT\",\"HOUSE\",\"SPORTS ARENA / STADIUM\",\"VEHICLE - OTHER RIDE SHARE SERVICE (LYFT, UBER, ETC.)\",\"CREDIT UNION\",\"AIRPORT EXTERIOR - SECURE AREA\",\"BRIDGE\",\"VEHICLE - OTHER RIDE SHARE SERVICE (E.G., UBER, LYFT)\",\"FOREST PRESERVE\",\"CEMETARY\",\"LAKEFRONT / WATERFRONT / RIVERBANK\",\"PORCH\",\"VEHICLE - DELIVERY TRUCK\",\"SAVINGS AND LOAN\",\"COLLEGE / UNIVERSITY - GROUNDS\",\"MOVIE HOUSE / THEATER\",\"VEHICLE - OTHER RIDE SERVICE\",\"YARD\",\"PARKING LOT\",\"HIGHWAY / EXPRESSWAY\",\"NEWSSTAND\",\"CTA TRACKS - RIGHT OF WAY\",\"AIRPORT TRANSPORTATION SYSTEM (ATS)\",\"AIRPORT TERMINAL MEZZANINE - NON-SECURE AREA\",\"VACANT LOT\",\"BOAT / WATERCRAFT\",\"COLLEGE / UNIVERSITY - RESIDENCE HALL\",\"HALLWAY\",\"RETAIL STORE\",\"GANGWAY\",\"GAS STATION DRIVE/PROP.\",\"GARAGE\",\"CHA PARKING LOT\",\"CASINO/GAMBLING ESTABLISHMENT\",\"CHA GROUNDS\",\"TAVERN\",\"CHA HALLWAY\",\"BASEMENT\",\"VESTIBULE\",\"HOTEL\",\"DRIVEWAY\",\"BARBER SHOP/BEAUTY SALON\",\"STAIRWELL\",\"KENNEL\",\"OFFICE\",\"VEHICLE - COMMERCIAL: TROLLEY BUS\",\"HOSPITAL\",\"VEHICLE - COMMERCIAL: ENTERTAINMENT / PARTY BUS\",\"RAILROAD PROPERTY\",\"SCHOOL YARD\",\"CLUB\",\"LIQUOR STORE\",\"\\\"CTA \\\"\\\"L\\\"\\\" PLATFORM\\\"\",\"\\\"CTA \\\"\\\"L\\\"\\\" TRAIN\\\"\",\"CHA STAIRWELL\",\"CTA PROPERTY\",\"VEHICLE-COMMERCIAL - ENTERTAINMENT/PARTY BUS\",\"CHA LOBBY\",\"FARM\",\"VEHICLE-COMMERCIAL - TROLLEY BUS\",\"TRUCK\",\"GARAGE/AUTO REPAIR\",\"MOTEL\",\"DUMPSTER\",\"NURSING HOME\",\"TAXI CAB\",\"WOODED AREA\",\"RIVER BANK\",\"CHA PLAY LOT\",\"LAKE\",\"RIVER\",\"TRAILER\",\"CHA BREEZEWAY\",\"CHA ELEVATOR\",\"CHURCH\",\"COACH HOUSE\",\"HORSE STABLE\",\"SEWER\",\"YMCA\",\"BANQUET HALL\",\"CHURCH PROPERTY\",\"FACTORY\",\"GOVERNMENT BUILDING\",\"LAUNDRY ROOM\",\"LIVERY STAND OFFICE\",\"PRAIRIE\",\"PUBLIC GRAMMAR SCHOOL\",\"PUBLIC HIGH SCHOOL\",\"ROOMING HOUSE\",\"BEACH\",\"CLEANERS/LAUNDROMAT\",\"COUNTY JAIL\",\"CTA SUBWAY STATION\",\"ELEVATOR\",\"EXPRESSWAY EMBANKMENT\",\"FUNERAL PARLOR\",\"JUNK YARD/GARBAGE DUMP\",\"LAGOON\",\"LIVERY AUTO\",\"POLICE FACILITY\",\"POOLROOM\",\"ROOF\",\"TRUCKING TERMINAL\"],\"type\":\"nominal\",\"name\":\"LocationDescription_index\"}}",
         "name": "LocationDescription_index",
         "type": "\"double\""
        },
        {
         "metadata": "{\"ml_attr\":{\"vals\":[\"-1\",\"25\",\"8\",\"43\",\"23\",\"28\",\"24\",\"29\",\"71\",\"67\",\"49\",\"68\",\"32\",\"69\",\"66\",\"44\",\"22\",\"6\",\"61\",\"26\",\"27\",\"19\",\"46\",\"30\",\"53\",\"42\",\"7\",\"3\",\"38\",\"15\",\"73\",\"16\",\"35\",\"40\",\"77\",\"31\",\"58\",\"21\",\"63\",\"70\",\"14\",\"56\",\"2\",\"75\",\"33\",\"65\",\"4\",\"51\",\"41\",\"60\",\"17\",\"20\",\"76\",\"39\",\"5\",\"48\",\"45\",\"52\",\"54\",\"10\",\"50\",\"59\",\"64\",\"11\",\"62\",\"34\",\"57\",\"72\",\"13\",\"37\",\"18\",\"36\",\"55\",\"74\",\"12\",\"47\",\"1\",\"9\",\"0\"],\"type\":\"nominal\",\"name\":\"CommunityArea_index\"}}",
         "name": "CommunityArea_index",
         "type": "\"double\""
        },
        {
         "metadata": "{\"ml_attr\":{\"vals\":[\"-1\",\"28\",\"42\",\"24\",\"27\",\"2\",\"6\",\"17\",\"20\",\"21\",\"3\",\"16\",\"34\",\"8\",\"7\",\"37\",\"9\",\"15\",\"5\",\"29\",\"4\",\"1\",\"10\",\"26\",\"18\",\"32\",\"25\",\"44\",\"46\",\"31\",\"14\",\"11\",\"30\",\"35\",\"23\",\"43\",\"13\",\"12\",\"22\",\"36\",\"48\",\"47\",\"38\",\"45\",\"33\",\"40\",\"39\",\"41\",\"19\",\"50\",\"49\"],\"type\":\"nominal\",\"name\":\"Ward_index\"}}",
         "name": "Ward_index",
         "type": "\"double\""
        },
        {
         "metadata": "{}",
         "name": "Domestic_str",
         "type": "\"string\""
        },
        {
         "metadata": "{\"ml_attr\":{\"vals\":[\"false\",\"true\"],\"type\":\"nominal\",\"name\":\"label\"}}",
         "name": "label",
         "type": "\"double\""
        }
       ],
       "type": "table"
      }
     },
     "output_type": "display_data"
    }
   ],
   "source": [
    "# SparkSQL query for verifying the feature transformed DataFrame\n",
    "spark.sql(\"\"\"\n",
    "select * from modeldf_check\n",
    "limit 5\"\"\").display()"
   ]
  },
  {
   "cell_type": "markdown",
   "metadata": {
    "application/vnd.databricks.v1+cell": {
     "cellMetadata": {
      "byteLimit": 2048000,
      "rowLimit": 10000
     },
     "inputWidgets": {},
     "nuid": "01dab784-472b-4698-8466-66609bfdc2b3",
     "showTitle": false,
     "tableResultSettingsMap": {},
     "title": ""
    }
   },
   "source": [
    "## ML MODEL IMPLEMENTATION"
   ]
  },
  {
   "cell_type": "code",
   "execution_count": 0,
   "metadata": {
    "application/vnd.databricks.v1+cell": {
     "cellMetadata": {
      "byteLimit": 2048000,
      "rowLimit": 10000
     },
     "inputWidgets": {},
     "nuid": "4f03c44a-48cc-4f3d-9d58-38f5cf015574",
     "showTitle": false,
     "tableResultSettingsMap": {},
     "title": ""
    }
   },
   "outputs": [
    {
     "output_type": "stream",
     "name": "stdout",
     "output_type": "stream",
     "text": [
      "Out[17]: DataFrame[Primary Type: string, Location Description: string, Community Area: int, Ward: int, Hour: int, DayOfWeek: int, Month: int, Domestic: boolean, PrimaryType_index: double, LocationDescription_index: double, CommunityArea_index: double, Ward_index: double, Domestic_str: string, label: double, features: vector]"
     ]
    }
   ],
   "source": [
    "# Defining a list of column names to give these columns as inputs for the ML model\n",
    "input_columns = [\"PrimaryType_index\", \"LocationDescription_index\", \"CommunityArea_index\", \"Ward_index\", \"Hour\", \"DayOfWeek\", \"Month\"]\n",
    "\n",
    "# Used VectorAssembler to combine all individual input columns into one single column \n",
    "v_assembler = VectorAssembler(inputCols=input_columns, outputCol=\"features\")\n",
    "df_model = v_assembler.transform(df_model)\n",
    "df_model.cache()"
   ]
  },
  {
   "cell_type": "code",
   "execution_count": 0,
   "metadata": {
    "application/vnd.databricks.v1+cell": {
     "cellMetadata": {
      "byteLimit": 2048000,
      "rowLimit": 10000
     },
     "inputWidgets": {},
     "nuid": "e4eeafbf-8301-4d1c-9011-46cd6f534bf3",
     "showTitle": false,
     "tableResultSettingsMap": {},
     "title": ""
    }
   },
   "outputs": [],
   "source": [
    "# Importing necessary packages to implement Random Forest algorithm\n",
    "from pyspark.ml.classification import RandomForestClassifier\n",
    "from pyspark.ml import Pipeline\n",
    "\n",
    "# Spliting the dataframe into training and testing set\n",
    "df_model = df_model.repartition(10)\n",
    "training_df, testing_df = df_model.randomSplit([0.8, 0.2], seed=42)"
   ]
  },
  {
   "cell_type": "code",
   "execution_count": 0,
   "metadata": {
    "application/vnd.databricks.v1+cell": {
     "cellMetadata": {
      "byteLimit": 2048000,
      "rowLimit": 10000
     },
     "inputWidgets": {},
     "nuid": "f1844385-9598-4278-bade-d2b6e8ef31a2",
     "showTitle": false,
     "tableResultSettingsMap": {},
     "title": ""
    }
   },
   "outputs": [],
   "source": [
    "# Creating the Random Forest model by specifying the appropriate hyperparameters\n",
    "random_forest = RandomForestClassifier(\n",
    "    featuresCol=\"features\",\n",
    "    labelCol=\"label\",\n",
    "    numTrees=20,\n",
    "    maxDepth=7,\n",
    "    maxBins=300\n",
    ")\n",
    "# Training the model by giving the training set as input\n",
    "model = random_forest.fit(training_df)"
   ]
  },
  {
   "cell_type": "code",
   "execution_count": 0,
   "metadata": {
    "application/vnd.databricks.v1+cell": {
     "cellMetadata": {
      "byteLimit": 2048000,
      "rowLimit": 10000
     },
     "inputWidgets": {},
     "nuid": "3d1462ed-3e9b-4e1e-92ee-eef96b032990",
     "showTitle": false,
     "tableResultSettingsMap": {},
     "title": ""
    }
   },
   "outputs": [],
   "source": [
    "# Creating a variable to predict the model's performance\n",
    "predictions = model.transform(testing_df)"
   ]
  },
  {
   "cell_type": "code",
   "execution_count": 0,
   "metadata": {
    "application/vnd.databricks.v1+cell": {
     "cellMetadata": {
      "byteLimit": 2048000,
      "rowLimit": 10000
     },
     "inputWidgets": {},
     "nuid": "d143c61c-f212-4e1e-a399-a5b73ae7d90f",
     "showTitle": false,
     "tableResultSettingsMap": {},
     "title": ""
    }
   },
   "outputs": [
    {
     "output_type": "stream",
     "name": "stdout",
     "output_type": "stream",
     "text": [
      "Accuracy: 0.8875693159949637\nF1 Score: 0.8780718680565275\nPrecision: 0.8794603302643548\nRecall: 0.8875693159949638\n"
     ]
    }
   ],
   "source": [
    "# Importing necessary packages to evaluate the model's performance\n",
    "from pyspark.ml.evaluation import MulticlassClassificationEvaluator\n",
    "\n",
    "# Evaluating the model's performance using multiple metrics\n",
    "accuracy = MulticlassClassificationEvaluator(labelCol=\"label\", predictionCol=\"prediction\", metricName=\"accuracy\")\n",
    "evaluator_f1 = MulticlassClassificationEvaluator(labelCol=\"label\", predictionCol=\"prediction\", metricName=\"f1\")\n",
    "evaluator_precision = MulticlassClassificationEvaluator(labelCol=\"label\", predictionCol=\"prediction\", metricName=\"weightedPrecision\")\n",
    "evaluator_recall = MulticlassClassificationEvaluator(labelCol=\"label\", predictionCol=\"prediction\", metricName=\"weightedRecall\")\n",
    "\n",
    "\n",
    "print(f\"Accuracy:\", accuracy.evaluate(predictions))\n",
    "print(\"F1 Score:\", evaluator_f1.evaluate(predictions))\n",
    "print(\"Precision:\", evaluator_precision.evaluate(predictions))\n",
    "print(\"Recall:\", evaluator_recall.evaluate(predictions))"
   ]
  },
  {
   "cell_type": "markdown",
   "metadata": {
    "application/vnd.databricks.v1+cell": {
     "cellMetadata": {
      "byteLimit": 2048000,
      "rowLimit": 10000
     },
     "inputWidgets": {},
     "nuid": "4de6f180-2dce-475e-8b1b-0506861f6243",
     "showTitle": false,
     "tableResultSettingsMap": {},
     "title": ""
    }
   },
   "source": []
  },
  {
   "cell_type": "markdown",
   "metadata": {
    "application/vnd.databricks.v1+cell": {
     "cellMetadata": {
      "byteLimit": 2048000,
      "rowLimit": 10000
     },
     "inputWidgets": {},
     "nuid": "43c5ca69-be24-45af-b292-bf4e9535ada2",
     "showTitle": false,
     "tableResultSettingsMap": {},
     "title": ""
    }
   },
   "source": []
  },
  {
   "cell_type": "markdown",
   "metadata": {
    "application/vnd.databricks.v1+cell": {
     "cellMetadata": {
      "byteLimit": 2048000,
      "rowLimit": 10000
     },
     "inputWidgets": {},
     "nuid": "5bae8fa8-be17-497a-a1a0-8ac1c9e0410c",
     "showTitle": false,
     "tableResultSettingsMap": {},
     "title": ""
    }
   },
   "source": []
  }
 ],
 "metadata": {
  "application/vnd.databricks.v1+notebook": {
   "computePreferences": null,
   "dashboards": [],
   "environmentMetadata": {
    "base_environment": "",
    "environment_version": "1"
   },
   "inputWidgetPreferences": null,
   "language": "python",
   "notebookMetadata": {
    "mostRecentlyExecutedCommandWithImplicitDF": {
     "commandId": 1455082500641144,
     "dataframes": [
      "_sqldf"
     ]
    },
    "pythonIndentUnit": 4
   },
   "notebookName": "Chicago Crime Analysis",
   "widgets": {}
  }
 },
 "nbformat": 4,
 "nbformat_minor": 0
}
